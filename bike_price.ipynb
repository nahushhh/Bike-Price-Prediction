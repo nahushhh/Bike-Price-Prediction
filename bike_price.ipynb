{
 "cells": [
  {
   "cell_type": "code",
   "execution_count": 1,
   "metadata": {},
   "outputs": [],
   "source": [
    "import pandas as pd\n",
    "import numpy as np\n",
    "import matplotlib.pyplot as plt\n",
    "%matplotlib inline\n",
    "import seaborn as sns"
   ]
  },
  {
   "cell_type": "code",
   "execution_count": 2,
   "metadata": {},
   "outputs": [
    {
     "data": {
      "text/html": [
       "<div>\n",
       "<style scoped>\n",
       "    .dataframe tbody tr th:only-of-type {\n",
       "        vertical-align: middle;\n",
       "    }\n",
       "\n",
       "    .dataframe tbody tr th {\n",
       "        vertical-align: top;\n",
       "    }\n",
       "\n",
       "    .dataframe thead th {\n",
       "        text-align: right;\n",
       "    }\n",
       "</style>\n",
       "<table border=\"1\" class=\"dataframe\">\n",
       "  <thead>\n",
       "    <tr style=\"text-align: right;\">\n",
       "      <th></th>\n",
       "      <th>bike_name</th>\n",
       "      <th>price</th>\n",
       "      <th>city</th>\n",
       "      <th>kms_driven</th>\n",
       "      <th>owner</th>\n",
       "      <th>age</th>\n",
       "      <th>power</th>\n",
       "      <th>brand</th>\n",
       "    </tr>\n",
       "  </thead>\n",
       "  <tbody>\n",
       "    <tr>\n",
       "      <th>0</th>\n",
       "      <td>TVS Star City Plus Dual Tone 110cc</td>\n",
       "      <td>35000.0</td>\n",
       "      <td>Ahmedabad</td>\n",
       "      <td>17654.0</td>\n",
       "      <td>First Owner</td>\n",
       "      <td>3.0</td>\n",
       "      <td>110.0</td>\n",
       "      <td>TVS</td>\n",
       "    </tr>\n",
       "    <tr>\n",
       "      <th>1</th>\n",
       "      <td>Royal Enfield Classic 350cc</td>\n",
       "      <td>119900.0</td>\n",
       "      <td>Delhi</td>\n",
       "      <td>11000.0</td>\n",
       "      <td>First Owner</td>\n",
       "      <td>4.0</td>\n",
       "      <td>350.0</td>\n",
       "      <td>Royal Enfield</td>\n",
       "    </tr>\n",
       "    <tr>\n",
       "      <th>2</th>\n",
       "      <td>Triumph Daytona 675R</td>\n",
       "      <td>600000.0</td>\n",
       "      <td>Delhi</td>\n",
       "      <td>110.0</td>\n",
       "      <td>First Owner</td>\n",
       "      <td>8.0</td>\n",
       "      <td>675.0</td>\n",
       "      <td>Triumph</td>\n",
       "    </tr>\n",
       "    <tr>\n",
       "      <th>3</th>\n",
       "      <td>TVS Apache RTR 180cc</td>\n",
       "      <td>65000.0</td>\n",
       "      <td>Bangalore</td>\n",
       "      <td>16329.0</td>\n",
       "      <td>First Owner</td>\n",
       "      <td>4.0</td>\n",
       "      <td>180.0</td>\n",
       "      <td>TVS</td>\n",
       "    </tr>\n",
       "    <tr>\n",
       "      <th>4</th>\n",
       "      <td>Yamaha FZ S V 2.0 150cc-Ltd. Edition</td>\n",
       "      <td>80000.0</td>\n",
       "      <td>Bangalore</td>\n",
       "      <td>10000.0</td>\n",
       "      <td>First Owner</td>\n",
       "      <td>3.0</td>\n",
       "      <td>150.0</td>\n",
       "      <td>Yamaha</td>\n",
       "    </tr>\n",
       "  </tbody>\n",
       "</table>\n",
       "</div>"
      ],
      "text/plain": [
       "                              bike_name     price       city  kms_driven  \\\n",
       "0    TVS Star City Plus Dual Tone 110cc   35000.0  Ahmedabad     17654.0   \n",
       "1           Royal Enfield Classic 350cc  119900.0      Delhi     11000.0   \n",
       "2                  Triumph Daytona 675R  600000.0      Delhi       110.0   \n",
       "3                  TVS Apache RTR 180cc   65000.0  Bangalore     16329.0   \n",
       "4  Yamaha FZ S V 2.0 150cc-Ltd. Edition   80000.0  Bangalore     10000.0   \n",
       "\n",
       "         owner  age  power          brand  \n",
       "0  First Owner  3.0  110.0            TVS  \n",
       "1  First Owner  4.0  350.0  Royal Enfield  \n",
       "2  First Owner  8.0  675.0        Triumph  \n",
       "3  First Owner  4.0  180.0            TVS  \n",
       "4  First Owner  3.0  150.0         Yamaha  "
      ]
     },
     "execution_count": 2,
     "metadata": {},
     "output_type": "execute_result"
    }
   ],
   "source": [
    "df1 = pd.read_csv(\"Used_Bikes.csv\")\n",
    "df1.head()"
   ]
  },
  {
   "cell_type": "code",
   "execution_count": 3,
   "metadata": {},
   "outputs": [],
   "source": [
    "# df1['brand'].unique()"
   ]
  },
  {
   "cell_type": "code",
   "execution_count": 4,
   "metadata": {},
   "outputs": [
    {
     "data": {
      "text/plain": [
       "(32648, 8)"
      ]
     },
     "execution_count": 4,
     "metadata": {},
     "output_type": "execute_result"
    }
   ],
   "source": [
    "df1.shape"
   ]
  },
  {
   "cell_type": "code",
   "execution_count": 5,
   "metadata": {},
   "outputs": [
    {
     "data": {
      "text/plain": [
       "bike_name     0\n",
       "price         0\n",
       "city          0\n",
       "kms_driven    0\n",
       "owner         0\n",
       "age           0\n",
       "power         0\n",
       "brand         0\n",
       "dtype: int64"
      ]
     },
     "execution_count": 5,
     "metadata": {},
     "output_type": "execute_result"
    }
   ],
   "source": [
    "df1.isna().sum()"
   ]
  },
  {
   "cell_type": "code",
   "execution_count": 6,
   "metadata": {},
   "outputs": [
    {
     "data": {
      "text/plain": [
       "Bajaj              11213\n",
       "Hero                6368\n",
       "Royal Enfield       4178\n",
       "Yamaha              3916\n",
       "Honda               2108\n",
       "Suzuki              1464\n",
       "TVS                 1247\n",
       "KTM                 1077\n",
       "Harley-Davidson      737\n",
       "Kawasaki              79\n",
       "Hyosung               64\n",
       "Benelli               56\n",
       "Mahindra              55\n",
       "Triumph               26\n",
       "Ducati                22\n",
       "BMW                   16\n",
       "Jawa                  10\n",
       "MV                     4\n",
       "Indian                 3\n",
       "Ideal                  2\n",
       "Rajdoot                1\n",
       "LML                    1\n",
       "Yezdi                  1\n",
       "Name: brand, dtype: int64"
      ]
     },
     "execution_count": 6,
     "metadata": {},
     "output_type": "execute_result"
    }
   ],
   "source": [
    "df1['brand'].value_counts()"
   ]
  },
  {
   "cell_type": "code",
   "execution_count": 7,
   "metadata": {},
   "outputs": [
    {
     "data": {
      "text/plain": [
       "First Owner             29964\n",
       "Second Owner             2564\n",
       "Third Owner               108\n",
       "Fourth Owner Or More       12\n",
       "Name: owner, dtype: int64"
      ]
     },
     "execution_count": 7,
     "metadata": {},
     "output_type": "execute_result"
    }
   ],
   "source": [
    "df1['owner'].value_counts()"
   ]
  },
  {
   "cell_type": "code",
   "execution_count": 8,
   "metadata": {},
   "outputs": [
    {
     "name": "stdout",
     "output_type": "stream",
     "text": [
      "<class 'pandas.core.frame.DataFrame'>\n",
      "RangeIndex: 32648 entries, 0 to 32647\n",
      "Data columns (total 8 columns):\n",
      " #   Column      Non-Null Count  Dtype  \n",
      "---  ------      --------------  -----  \n",
      " 0   bike_name   32648 non-null  object \n",
      " 1   price       32648 non-null  float64\n",
      " 2   city        32648 non-null  object \n",
      " 3   kms_driven  32648 non-null  float64\n",
      " 4   owner       32648 non-null  object \n",
      " 5   age         32648 non-null  float64\n",
      " 6   power       32648 non-null  float64\n",
      " 7   brand       32648 non-null  object \n",
      "dtypes: float64(4), object(4)\n",
      "memory usage: 2.0+ MB\n"
     ]
    }
   ],
   "source": [
    "df1.info()"
   ]
  },
  {
   "cell_type": "code",
   "execution_count": 9,
   "metadata": {},
   "outputs": [
    {
     "data": {
      "text/plain": [
       "Bajaj Pulsar 150cc                                   2776\n",
       "Bajaj Avenger Street 220                             2531\n",
       "Bajaj Avenger 220cc                                  2060\n",
       "Royal Enfield Classic 350cc                          1673\n",
       "Hero Passion Pro 100cc                               1432\n",
       "                                                     ... \n",
       "Indian Chief Classic 1800cc                             1\n",
       "TVS Apache RTR 160cc White Race Edition Rear Disc       1\n",
       "Triumph Bonneville T100 900cc                           1\n",
       "Bajaj CT110 ES Alloy                                    1\n",
       "Yamaha FZS FI 150cc Special Edition                     1\n",
       "Name: bike_name, Length: 471, dtype: int64"
      ]
     },
     "execution_count": 9,
     "metadata": {},
     "output_type": "execute_result"
    }
   ],
   "source": [
    "df1['bike_name'].value_counts()"
   ]
  },
  {
   "cell_type": "code",
   "execution_count": 10,
   "metadata": {},
   "outputs": [
    {
     "data": {
      "text/plain": [
       "Delhi            7318\n",
       "Bangalore        2723\n",
       "Mumbai           2591\n",
       "Hyderabad        2160\n",
       "Pune             1724\n",
       "                 ... \n",
       "Surendranagar       1\n",
       "Khandela            1\n",
       "Mohammadabad        1\n",
       "Shimla              1\n",
       "Sidhi               1\n",
       "Name: city, Length: 443, dtype: int64"
      ]
     },
     "execution_count": 10,
     "metadata": {},
     "output_type": "execute_result"
    }
   ],
   "source": [
    "df1['city'].value_counts()"
   ]
  },
  {
   "cell_type": "code",
   "execution_count": 11,
   "metadata": {},
   "outputs": [
    {
     "data": {
      "text/html": [
       "<div>\n",
       "<style scoped>\n",
       "    .dataframe tbody tr th:only-of-type {\n",
       "        vertical-align: middle;\n",
       "    }\n",
       "\n",
       "    .dataframe tbody tr th {\n",
       "        vertical-align: top;\n",
       "    }\n",
       "\n",
       "    .dataframe thead th {\n",
       "        text-align: right;\n",
       "    }\n",
       "</style>\n",
       "<table border=\"1\" class=\"dataframe\">\n",
       "  <thead>\n",
       "    <tr style=\"text-align: right;\">\n",
       "      <th></th>\n",
       "      <th>price</th>\n",
       "      <th>kms_driven</th>\n",
       "      <th>age</th>\n",
       "      <th>power</th>\n",
       "    </tr>\n",
       "  </thead>\n",
       "  <tbody>\n",
       "    <tr>\n",
       "      <th>count</th>\n",
       "      <td>3.264800e+04</td>\n",
       "      <td>32648.000000</td>\n",
       "      <td>32648.000000</td>\n",
       "      <td>32648.000000</td>\n",
       "    </tr>\n",
       "    <tr>\n",
       "      <th>mean</th>\n",
       "      <td>6.829542e+04</td>\n",
       "      <td>26344.625184</td>\n",
       "      <td>8.048211</td>\n",
       "      <td>213.511302</td>\n",
       "    </tr>\n",
       "    <tr>\n",
       "      <th>std</th>\n",
       "      <td>9.071860e+04</td>\n",
       "      <td>22208.527695</td>\n",
       "      <td>4.031700</td>\n",
       "      <td>134.428868</td>\n",
       "    </tr>\n",
       "    <tr>\n",
       "      <th>min</th>\n",
       "      <td>4.400000e+03</td>\n",
       "      <td>1.000000</td>\n",
       "      <td>1.000000</td>\n",
       "      <td>100.000000</td>\n",
       "    </tr>\n",
       "    <tr>\n",
       "      <th>25%</th>\n",
       "      <td>2.500000e+04</td>\n",
       "      <td>12000.000000</td>\n",
       "      <td>5.000000</td>\n",
       "      <td>150.000000</td>\n",
       "    </tr>\n",
       "    <tr>\n",
       "      <th>50%</th>\n",
       "      <td>4.300000e+04</td>\n",
       "      <td>20373.000000</td>\n",
       "      <td>7.000000</td>\n",
       "      <td>150.000000</td>\n",
       "    </tr>\n",
       "    <tr>\n",
       "      <th>75%</th>\n",
       "      <td>8.000000e+04</td>\n",
       "      <td>35000.000000</td>\n",
       "      <td>10.000000</td>\n",
       "      <td>220.000000</td>\n",
       "    </tr>\n",
       "    <tr>\n",
       "      <th>max</th>\n",
       "      <td>1.900000e+06</td>\n",
       "      <td>750000.000000</td>\n",
       "      <td>63.000000</td>\n",
       "      <td>1800.000000</td>\n",
       "    </tr>\n",
       "  </tbody>\n",
       "</table>\n",
       "</div>"
      ],
      "text/plain": [
       "              price     kms_driven           age         power\n",
       "count  3.264800e+04   32648.000000  32648.000000  32648.000000\n",
       "mean   6.829542e+04   26344.625184      8.048211    213.511302\n",
       "std    9.071860e+04   22208.527695      4.031700    134.428868\n",
       "min    4.400000e+03       1.000000      1.000000    100.000000\n",
       "25%    2.500000e+04   12000.000000      5.000000    150.000000\n",
       "50%    4.300000e+04   20373.000000      7.000000    150.000000\n",
       "75%    8.000000e+04   35000.000000     10.000000    220.000000\n",
       "max    1.900000e+06  750000.000000     63.000000   1800.000000"
      ]
     },
     "execution_count": 11,
     "metadata": {},
     "output_type": "execute_result"
    }
   ],
   "source": [
    "df1.describe()"
   ]
  },
  {
   "cell_type": "code",
   "execution_count": 12,
   "metadata": {},
   "outputs": [],
   "source": [
    "sns.set(rc={'figure.figsize':(9,7)})"
   ]
  },
  {
   "cell_type": "code",
   "execution_count": 13,
   "metadata": {},
   "outputs": [
    {
     "data": {
      "text/plain": [
       "<AxesSubplot:xlabel='price'>"
      ]
     },
     "execution_count": 13,
     "metadata": {},
     "output_type": "execute_result"
    },
    {
     "data": {
      "image/png": "[encoded data removed]",
      "text/plain": [
       "<Figure size 648x504 with 1 Axes>"
      ]
     },
     "metadata": {},
     "output_type": "display_data"
    }
   ],
   "source": [
    "sns.boxplot(data=df1, x = 'price')"
   ]
  },
  {
   "cell_type": "code",
   "execution_count": 14,
   "metadata": {},
   "outputs": [
    {
     "name": "stderr",
     "output_type": "stream",
     "text": [
      "c:\\Users\\patil\\AppData\\Local\\Programs\\Python\\Python39\\lib\\site-packages\\seaborn\\distributions.py:2619: FutureWarning: `distplot` is a deprecated function and will be removed in a future version. Please adapt your code to use either `displot` (a figure-level function with similar flexibility) or `histplot` (an axes-level function for histograms).\n",
      "  warnings.warn(msg, FutureWarning)\n"
     ]
    },
    {
     "data": {
      "text/plain": [
       "<AxesSubplot:xlabel='price', ylabel='Density'>"
      ]
     },
     "execution_count": 14,
     "metadata": {},
     "output_type": "execute_result"
    },
    {
     "data": {
      "image/png": "[encoded data removed]",
      "text/plain": [
       "<Figure size 648x504 with 1 Axes>"
      ]
     },
     "metadata": {},
     "output_type": "display_data"
    }
   ],
   "source": [
    "sns.distplot(df1['price'])"
   ]
  },
  {
   "cell_type": "code",
   "execution_count": 15,
   "metadata": {},
   "outputs": [
    {
     "data": {
      "text/plain": [
       "<AxesSubplot:xlabel='kms_driven'>"
      ]
     },
     "execution_count": 15,
     "metadata": {},
     "output_type": "execute_result"
    },
    {
     "data": {
      "image/png": "[encoded data removed]",
      "text/plain": [
       "<Figure size 648x504 with 1 Axes>"
      ]
     },
     "metadata": {},
     "output_type": "display_data"
    }
   ],
   "source": [
    "sns.boxplot(data=df1, x='kms_driven')"
   ]
  },
  {
   "cell_type": "code",
   "execution_count": 16,
   "metadata": {},
   "outputs": [
    {
     "data": {
      "text/plain": [
       "<AxesSubplot:xlabel='age'>"
      ]
     },
     "execution_count": 16,
     "metadata": {},
     "output_type": "execute_result"
    },
    {
     "data": {
      "image/png": "[encoded data removed]",
      "text/plain": [
       "<Figure size 648x504 with 1 Axes>"
      ]
     },
     "metadata": {},
     "output_type": "display_data"
    }
   ],
   "source": [
    "sns.boxplot(data=df1, x='age')"
   ]
  },
  {
   "cell_type": "code",
   "execution_count": 17,
   "metadata": {},
   "outputs": [
    {
     "data": {
      "text/plain": [
       "<AxesSubplot:xlabel='power'>"
      ]
     },
     "execution_count": 17,
     "metadata": {},
     "output_type": "execute_result"
    },
    {
     "data": {
      "image/png": "[encoded data removed]",
      "text/plain": [
       "<Figure size 648x504 with 1 Axes>"
      ]
     },
     "metadata": {},
     "output_type": "display_data"
    }
   ],
   "source": [
    "sns.boxplot(data=df1, x='power')"
   ]
  },
  {
   "cell_type": "code",
   "execution_count": 18,
   "metadata": {},
   "outputs": [],
   "source": [
    "df1['age'] = df1['age'].astype('int32')\n",
    "df1['power'] = df1['power'].astype('int32')"
   ]
  },
  {
   "cell_type": "code",
   "execution_count": 19,
   "metadata": {},
   "outputs": [
    {
     "data": {
      "text/html": [
       "<div>\n",
       "<style scoped>\n",
       "    .dataframe tbody tr th:only-of-type {\n",
       "        vertical-align: middle;\n",
       "    }\n",
       "\n",
       "    .dataframe tbody tr th {\n",
       "        vertical-align: top;\n",
       "    }\n",
       "\n",
       "    .dataframe thead th {\n",
       "        text-align: right;\n",
       "    }\n",
       "</style>\n",
       "<table border=\"1\" class=\"dataframe\">\n",
       "  <thead>\n",
       "    <tr style=\"text-align: right;\">\n",
       "      <th></th>\n",
       "      <th>price</th>\n",
       "      <th>kms_driven</th>\n",
       "      <th>age</th>\n",
       "      <th>power</th>\n",
       "    </tr>\n",
       "  </thead>\n",
       "  <tbody>\n",
       "    <tr>\n",
       "      <th>count</th>\n",
       "      <td>3.264800e+04</td>\n",
       "      <td>32648.000000</td>\n",
       "      <td>32648.000000</td>\n",
       "      <td>32648.000000</td>\n",
       "    </tr>\n",
       "    <tr>\n",
       "      <th>mean</th>\n",
       "      <td>6.829542e+04</td>\n",
       "      <td>26344.625184</td>\n",
       "      <td>8.048211</td>\n",
       "      <td>213.511302</td>\n",
       "    </tr>\n",
       "    <tr>\n",
       "      <th>std</th>\n",
       "      <td>9.071860e+04</td>\n",
       "      <td>22208.527695</td>\n",
       "      <td>4.031700</td>\n",
       "      <td>134.428868</td>\n",
       "    </tr>\n",
       "    <tr>\n",
       "      <th>min</th>\n",
       "      <td>4.400000e+03</td>\n",
       "      <td>1.000000</td>\n",
       "      <td>1.000000</td>\n",
       "      <td>100.000000</td>\n",
       "    </tr>\n",
       "    <tr>\n",
       "      <th>25%</th>\n",
       "      <td>2.500000e+04</td>\n",
       "      <td>12000.000000</td>\n",
       "      <td>5.000000</td>\n",
       "      <td>150.000000</td>\n",
       "    </tr>\n",
       "    <tr>\n",
       "      <th>50%</th>\n",
       "      <td>4.300000e+04</td>\n",
       "      <td>20373.000000</td>\n",
       "      <td>7.000000</td>\n",
       "      <td>150.000000</td>\n",
       "    </tr>\n",
       "    <tr>\n",
       "      <th>75%</th>\n",
       "      <td>8.000000e+04</td>\n",
       "      <td>35000.000000</td>\n",
       "      <td>10.000000</td>\n",
       "      <td>220.000000</td>\n",
       "    </tr>\n",
       "    <tr>\n",
       "      <th>max</th>\n",
       "      <td>1.900000e+06</td>\n",
       "      <td>750000.000000</td>\n",
       "      <td>63.000000</td>\n",
       "      <td>1800.000000</td>\n",
       "    </tr>\n",
       "  </tbody>\n",
       "</table>\n",
       "</div>"
      ],
      "text/plain": [
       "              price     kms_driven           age         power\n",
       "count  3.264800e+04   32648.000000  32648.000000  32648.000000\n",
       "mean   6.829542e+04   26344.625184      8.048211    213.511302\n",
       "std    9.071860e+04   22208.527695      4.031700    134.428868\n",
       "min    4.400000e+03       1.000000      1.000000    100.000000\n",
       "25%    2.500000e+04   12000.000000      5.000000    150.000000\n",
       "50%    4.300000e+04   20373.000000      7.000000    150.000000\n",
       "75%    8.000000e+04   35000.000000     10.000000    220.000000\n",
       "max    1.900000e+06  750000.000000     63.000000   1800.000000"
      ]
     },
     "execution_count": 19,
     "metadata": {},
     "output_type": "execute_result"
    }
   ],
   "source": [
    "df1.describe()"
   ]
  },
  {
   "cell_type": "code",
   "execution_count": 20,
   "metadata": {},
   "outputs": [],
   "source": [
    "def remove_outliers(column):\n",
    "    Q1 = df1[column].quantile(0.25)\n",
    "    Q3 = df1[column].quantile(0.75)\n",
    "\n",
    "    # Calculate the IQR (Interquartile Range)\n",
    "    IQR = Q3 - Q1\n",
    "\n",
    "    # Create a boolean mask that is True for values that are within 1.5 times the IQR of the 25th and 75th percentiles\n",
    "    mask = (df1[column] >= Q1 - 1.5 * IQR) & (df1[column] <= Q3 + 1.5 * IQR)\n",
    "    \n",
    "    df = df1[mask]\n",
    "    return df"
   ]
  },
  {
   "cell_type": "code",
   "execution_count": 21,
   "metadata": {},
   "outputs": [],
   "source": [
    "def replace_outliers_with_iqr(data, factor=1.5):\n",
    "    Q1, Q3 = np.percentile(data, [25, 75])\n",
    "    IQR = Q3 - Q1\n",
    "    lower_bound = Q1 - factor * IQR\n",
    "    upper_bound = Q3 + factor * IQR\n",
    "    data[data < lower_bound] = lower_bound\n",
    "    data[data > upper_bound] = upper_bound\n",
    "    return data"
   ]
  },
  {
   "cell_type": "code",
   "execution_count": 22,
   "metadata": {},
   "outputs": [],
   "source": [
    "df1 = remove_outliers('age')"
   ]
  },
  {
   "cell_type": "code",
   "execution_count": 23,
   "metadata": {},
   "outputs": [
    {
     "data": {
      "text/plain": [
       "(31963, 8)"
      ]
     },
     "execution_count": 23,
     "metadata": {},
     "output_type": "execute_result"
    }
   ],
   "source": [
    "df1.shape"
   ]
  },
  {
   "cell_type": "code",
   "execution_count": 24,
   "metadata": {},
   "outputs": [],
   "source": [
    "df1 = remove_outliers('power')"
   ]
  },
  {
   "cell_type": "code",
   "execution_count": 25,
   "metadata": {},
   "outputs": [
    {
     "data": {
      "text/plain": [
       "(25346, 8)"
      ]
     },
     "execution_count": 25,
     "metadata": {},
     "output_type": "execute_result"
    }
   ],
   "source": [
    "df1.shape"
   ]
  },
  {
   "cell_type": "code",
   "execution_count": 26,
   "metadata": {},
   "outputs": [],
   "source": [
    "df1 = remove_outliers('kms_driven')"
   ]
  },
  {
   "cell_type": "code",
   "execution_count": 27,
   "metadata": {},
   "outputs": [
    {
     "data": {
      "text/plain": [
       "(25259, 8)"
      ]
     },
     "execution_count": 27,
     "metadata": {},
     "output_type": "execute_result"
    }
   ],
   "source": [
    "df1.shape"
   ]
  },
  {
   "cell_type": "code",
   "execution_count": 28,
   "metadata": {},
   "outputs": [
    {
     "name": "stderr",
     "output_type": "stream",
     "text": [
      "C:\\Users\\patil\\AppData\\Local\\Temp\\ipykernel_11600\\3159461166.py:7: SettingWithCopyWarning: \n",
      "A value is trying to be set on a copy of a slice from a DataFrame\n",
      "\n",
      "See the caveats in the documentation: https://pandas.pydata.org/pandas-docs/stable/user_guide/indexing.html#returning-a-view-versus-a-copy\n",
      "  data[data > upper_bound] = upper_bound\n"
     ]
    }
   ],
   "source": [
    "df1['price'] = replace_outliers_with_iqr(df1['price'], factor=1.5)"
   ]
  },
  {
   "cell_type": "code",
   "execution_count": 29,
   "metadata": {},
   "outputs": [
    {
     "data": {
      "text/plain": [
       "(25259, 8)"
      ]
     },
     "execution_count": 29,
     "metadata": {},
     "output_type": "execute_result"
    }
   ],
   "source": [
    "df1.shape"
   ]
  },
  {
   "cell_type": "code",
   "execution_count": 30,
   "metadata": {},
   "outputs": [
    {
     "data": {
      "text/html": [
       "<div>\n",
       "<style scoped>\n",
       "    .dataframe tbody tr th:only-of-type {\n",
       "        vertical-align: middle;\n",
       "    }\n",
       "\n",
       "    .dataframe tbody tr th {\n",
       "        vertical-align: top;\n",
       "    }\n",
       "\n",
       "    .dataframe thead th {\n",
       "        text-align: right;\n",
       "    }\n",
       "</style>\n",
       "<table border=\"1\" class=\"dataframe\">\n",
       "  <thead>\n",
       "    <tr style=\"text-align: right;\">\n",
       "      <th></th>\n",
       "      <th>bike_name</th>\n",
       "      <th>price</th>\n",
       "      <th>city</th>\n",
       "      <th>kms_driven</th>\n",
       "      <th>owner</th>\n",
       "      <th>age</th>\n",
       "      <th>power</th>\n",
       "      <th>brand</th>\n",
       "    </tr>\n",
       "  </thead>\n",
       "  <tbody>\n",
       "    <tr>\n",
       "      <th>0</th>\n",
       "      <td>TVS Star City Plus Dual Tone 110cc</td>\n",
       "      <td>35000.0</td>\n",
       "      <td>Ahmedabad</td>\n",
       "      <td>17654.0</td>\n",
       "      <td>First Owner</td>\n",
       "      <td>3</td>\n",
       "      <td>110</td>\n",
       "      <td>TVS</td>\n",
       "    </tr>\n",
       "    <tr>\n",
       "      <th>3</th>\n",
       "      <td>TVS Apache RTR 180cc</td>\n",
       "      <td>65000.0</td>\n",
       "      <td>Bangalore</td>\n",
       "      <td>16329.0</td>\n",
       "      <td>First Owner</td>\n",
       "      <td>4</td>\n",
       "      <td>180</td>\n",
       "      <td>TVS</td>\n",
       "    </tr>\n",
       "    <tr>\n",
       "      <th>4</th>\n",
       "      <td>Yamaha FZ S V 2.0 150cc-Ltd. Edition</td>\n",
       "      <td>80000.0</td>\n",
       "      <td>Bangalore</td>\n",
       "      <td>10000.0</td>\n",
       "      <td>First Owner</td>\n",
       "      <td>3</td>\n",
       "      <td>150</td>\n",
       "      <td>Yamaha</td>\n",
       "    </tr>\n",
       "    <tr>\n",
       "      <th>5</th>\n",
       "      <td>Yamaha FZs 150cc</td>\n",
       "      <td>53499.0</td>\n",
       "      <td>Delhi</td>\n",
       "      <td>25000.0</td>\n",
       "      <td>First Owner</td>\n",
       "      <td>6</td>\n",
       "      <td>150</td>\n",
       "      <td>Yamaha</td>\n",
       "    </tr>\n",
       "    <tr>\n",
       "      <th>6</th>\n",
       "      <td>Honda CB Hornet 160R  ABS DLX</td>\n",
       "      <td>85000.0</td>\n",
       "      <td>Delhi</td>\n",
       "      <td>8200.0</td>\n",
       "      <td>First Owner</td>\n",
       "      <td>3</td>\n",
       "      <td>160</td>\n",
       "      <td>Honda</td>\n",
       "    </tr>\n",
       "  </tbody>\n",
       "</table>\n",
       "</div>"
      ],
      "text/plain": [
       "                              bike_name    price       city  kms_driven  \\\n",
       "0    TVS Star City Plus Dual Tone 110cc  35000.0  Ahmedabad     17654.0   \n",
       "3                  TVS Apache RTR 180cc  65000.0  Bangalore     16329.0   \n",
       "4  Yamaha FZ S V 2.0 150cc-Ltd. Edition  80000.0  Bangalore     10000.0   \n",
       "5                      Yamaha FZs 150cc  53499.0      Delhi     25000.0   \n",
       "6         Honda CB Hornet 160R  ABS DLX  85000.0      Delhi      8200.0   \n",
       "\n",
       "         owner  age  power   brand  \n",
       "0  First Owner    3    110     TVS  \n",
       "3  First Owner    4    180     TVS  \n",
       "4  First Owner    3    150  Yamaha  \n",
       "5  First Owner    6    150  Yamaha  \n",
       "6  First Owner    3    160   Honda  "
      ]
     },
     "execution_count": 30,
     "metadata": {},
     "output_type": "execute_result"
    }
   ],
   "source": [
    "df1.head()"
   ]
  },
  {
   "cell_type": "code",
   "execution_count": 31,
   "metadata": {},
   "outputs": [
    {
     "data": {
      "text/plain": [
       "First Owner             24065\n",
       "Second Owner             1118\n",
       "Third Owner                71\n",
       "Fourth Owner Or More        5\n",
       "Name: owner, dtype: int64"
      ]
     },
     "execution_count": 31,
     "metadata": {},
     "output_type": "execute_result"
    }
   ],
   "source": [
    "df1['owner'].value_counts()"
   ]
  },
  {
   "cell_type": "code",
   "execution_count": 32,
   "metadata": {},
   "outputs": [],
   "source": [
    "from sklearn.preprocessing import LabelEncoder\n",
    "le_owner=LabelEncoder()"
   ]
  },
  {
   "cell_type": "code",
   "execution_count": 33,
   "metadata": {},
   "outputs": [
    {
     "data": {
      "text/html": [
       "<div>\n",
       "<style scoped>\n",
       "    .dataframe tbody tr th:only-of-type {\n",
       "        vertical-align: middle;\n",
       "    }\n",
       "\n",
       "    .dataframe tbody tr th {\n",
       "        vertical-align: top;\n",
       "    }\n",
       "\n",
       "    .dataframe thead th {\n",
       "        text-align: right;\n",
       "    }\n",
       "</style>\n",
       "<table border=\"1\" class=\"dataframe\">\n",
       "  <thead>\n",
       "    <tr style=\"text-align: right;\">\n",
       "      <th></th>\n",
       "      <th>bike_name</th>\n",
       "      <th>price</th>\n",
       "      <th>city</th>\n",
       "      <th>kms_driven</th>\n",
       "      <th>owner</th>\n",
       "      <th>age</th>\n",
       "      <th>power</th>\n",
       "      <th>brand</th>\n",
       "      <th>Owner_Type</th>\n",
       "    </tr>\n",
       "  </thead>\n",
       "  <tbody>\n",
       "    <tr>\n",
       "      <th>0</th>\n",
       "      <td>TVS Star City Plus Dual Tone 110cc</td>\n",
       "      <td>35000.0</td>\n",
       "      <td>Ahmedabad</td>\n",
       "      <td>17654.0</td>\n",
       "      <td>First Owner</td>\n",
       "      <td>3</td>\n",
       "      <td>110</td>\n",
       "      <td>TVS</td>\n",
       "      <td>0</td>\n",
       "    </tr>\n",
       "    <tr>\n",
       "      <th>3</th>\n",
       "      <td>TVS Apache RTR 180cc</td>\n",
       "      <td>65000.0</td>\n",
       "      <td>Bangalore</td>\n",
       "      <td>16329.0</td>\n",
       "      <td>First Owner</td>\n",
       "      <td>4</td>\n",
       "      <td>180</td>\n",
       "      <td>TVS</td>\n",
       "      <td>0</td>\n",
       "    </tr>\n",
       "    <tr>\n",
       "      <th>4</th>\n",
       "      <td>Yamaha FZ S V 2.0 150cc-Ltd. Edition</td>\n",
       "      <td>80000.0</td>\n",
       "      <td>Bangalore</td>\n",
       "      <td>10000.0</td>\n",
       "      <td>First Owner</td>\n",
       "      <td>3</td>\n",
       "      <td>150</td>\n",
       "      <td>Yamaha</td>\n",
       "      <td>0</td>\n",
       "    </tr>\n",
       "    <tr>\n",
       "      <th>5</th>\n",
       "      <td>Yamaha FZs 150cc</td>\n",
       "      <td>53499.0</td>\n",
       "      <td>Delhi</td>\n",
       "      <td>25000.0</td>\n",
       "      <td>First Owner</td>\n",
       "      <td>6</td>\n",
       "      <td>150</td>\n",
       "      <td>Yamaha</td>\n",
       "      <td>0</td>\n",
       "    </tr>\n",
       "    <tr>\n",
       "      <th>6</th>\n",
       "      <td>Honda CB Hornet 160R  ABS DLX</td>\n",
       "      <td>85000.0</td>\n",
       "      <td>Delhi</td>\n",
       "      <td>8200.0</td>\n",
       "      <td>First Owner</td>\n",
       "      <td>3</td>\n",
       "      <td>160</td>\n",
       "      <td>Honda</td>\n",
       "      <td>0</td>\n",
       "    </tr>\n",
       "  </tbody>\n",
       "</table>\n",
       "</div>"
      ],
      "text/plain": [
       "                              bike_name    price       city  kms_driven  \\\n",
       "0    TVS Star City Plus Dual Tone 110cc  35000.0  Ahmedabad     17654.0   \n",
       "3                  TVS Apache RTR 180cc  65000.0  Bangalore     16329.0   \n",
       "4  Yamaha FZ S V 2.0 150cc-Ltd. Edition  80000.0  Bangalore     10000.0   \n",
       "5                      Yamaha FZs 150cc  53499.0      Delhi     25000.0   \n",
       "6         Honda CB Hornet 160R  ABS DLX  85000.0      Delhi      8200.0   \n",
       "\n",
       "         owner  age  power   brand  Owner_Type  \n",
       "0  First Owner    3    110     TVS           0  \n",
       "3  First Owner    4    180     TVS           0  \n",
       "4  First Owner    3    150  Yamaha           0  \n",
       "5  First Owner    6    150  Yamaha           0  \n",
       "6  First Owner    3    160   Honda           0  "
      ]
     },
     "execution_count": 33,
     "metadata": {},
     "output_type": "execute_result"
    }
   ],
   "source": [
    "df1['Owner_Type']=le_owner.fit_transform(df1['owner'])\n",
    "df1.head(5)"
   ]
  },
  {
   "cell_type": "code",
   "execution_count": 34,
   "metadata": {},
   "outputs": [
    {
     "data": {
      "text/html": [
       "<div>\n",
       "<style scoped>\n",
       "    .dataframe tbody tr th:only-of-type {\n",
       "        vertical-align: middle;\n",
       "    }\n",
       "\n",
       "    .dataframe tbody tr th {\n",
       "        vertical-align: top;\n",
       "    }\n",
       "\n",
       "    .dataframe thead th {\n",
       "        text-align: right;\n",
       "    }\n",
       "</style>\n",
       "<table border=\"1\" class=\"dataframe\">\n",
       "  <thead>\n",
       "    <tr style=\"text-align: right;\">\n",
       "      <th></th>\n",
       "      <th>bike_name</th>\n",
       "      <th>price</th>\n",
       "      <th>city</th>\n",
       "      <th>kms_driven</th>\n",
       "      <th>owner</th>\n",
       "      <th>age</th>\n",
       "      <th>power</th>\n",
       "      <th>brand</th>\n",
       "      <th>Owner_Type</th>\n",
       "    </tr>\n",
       "  </thead>\n",
       "  <tbody>\n",
       "    <tr>\n",
       "      <th>3637</th>\n",
       "      <td>Bajaj Pulsar 150cc</td>\n",
       "      <td>11000.0</td>\n",
       "      <td>Bangalore</td>\n",
       "      <td>58000.0</td>\n",
       "      <td>Fourth Owner Or More</td>\n",
       "      <td>14</td>\n",
       "      <td>150</td>\n",
       "      <td>Bajaj</td>\n",
       "      <td>1</td>\n",
       "    </tr>\n",
       "    <tr>\n",
       "      <th>4120</th>\n",
       "      <td>Bajaj Avenger 220cc</td>\n",
       "      <td>37000.0</td>\n",
       "      <td>Ahmedabad</td>\n",
       "      <td>30334.0</td>\n",
       "      <td>Fourth Owner Or More</td>\n",
       "      <td>7</td>\n",
       "      <td>220</td>\n",
       "      <td>Bajaj</td>\n",
       "      <td>1</td>\n",
       "    </tr>\n",
       "    <tr>\n",
       "      <th>5221</th>\n",
       "      <td>Yamaha Gladiator 125cc</td>\n",
       "      <td>20000.0</td>\n",
       "      <td>Bangalore</td>\n",
       "      <td>38500.0</td>\n",
       "      <td>Fourth Owner Or More</td>\n",
       "      <td>12</td>\n",
       "      <td>125</td>\n",
       "      <td>Yamaha</td>\n",
       "      <td>1</td>\n",
       "    </tr>\n",
       "    <tr>\n",
       "      <th>5456</th>\n",
       "      <td>Yamaha Gladiator 125cc</td>\n",
       "      <td>20000.0</td>\n",
       "      <td>Bangalore</td>\n",
       "      <td>38500.0</td>\n",
       "      <td>Fourth Owner Or More</td>\n",
       "      <td>12</td>\n",
       "      <td>125</td>\n",
       "      <td>Yamaha</td>\n",
       "      <td>1</td>\n",
       "    </tr>\n",
       "    <tr>\n",
       "      <th>9028</th>\n",
       "      <td>Hero Passion Plus 100cc</td>\n",
       "      <td>23000.0</td>\n",
       "      <td>Anantnag</td>\n",
       "      <td>2009.0</td>\n",
       "      <td>Fourth Owner Or More</td>\n",
       "      <td>12</td>\n",
       "      <td>100</td>\n",
       "      <td>Hero</td>\n",
       "      <td>1</td>\n",
       "    </tr>\n",
       "  </tbody>\n",
       "</table>\n",
       "</div>"
      ],
      "text/plain": [
       "                    bike_name    price       city  kms_driven  \\\n",
       "3637       Bajaj Pulsar 150cc  11000.0  Bangalore     58000.0   \n",
       "4120      Bajaj Avenger 220cc  37000.0  Ahmedabad     30334.0   \n",
       "5221   Yamaha Gladiator 125cc  20000.0  Bangalore     38500.0   \n",
       "5456   Yamaha Gladiator 125cc  20000.0  Bangalore     38500.0   \n",
       "9028  Hero Passion Plus 100cc  23000.0   Anantnag      2009.0   \n",
       "\n",
       "                     owner  age  power   brand  Owner_Type  \n",
       "3637  Fourth Owner Or More   14    150   Bajaj           1  \n",
       "4120  Fourth Owner Or More    7    220   Bajaj           1  \n",
       "5221  Fourth Owner Or More   12    125  Yamaha           1  \n",
       "5456  Fourth Owner Or More   12    125  Yamaha           1  \n",
       "9028  Fourth Owner Or More   12    100    Hero           1  "
      ]
     },
     "execution_count": 34,
     "metadata": {},
     "output_type": "execute_result"
    }
   ],
   "source": [
    "df1[df1['owner']=='Fourth Owner Or More']"
   ]
  },
  {
   "cell_type": "code",
   "execution_count": 35,
   "metadata": {},
   "outputs": [
    {
     "name": "stdout",
     "output_type": "stream",
     "text": [
      "['First Owner' 'Fourth Owner Or More' 'Second Owner' 'Third Owner']\n"
     ]
    }
   ],
   "source": [
    "print(le_owner.classes_)"
   ]
  },
  {
   "cell_type": "code",
   "execution_count": 36,
   "metadata": {},
   "outputs": [],
   "source": [
    "df1.drop(columns=['owner'], inplace=True)"
   ]
  },
  {
   "cell_type": "code",
   "execution_count": 37,
   "metadata": {},
   "outputs": [],
   "source": [
    "# df1['owner'] = df1['owner'].replace(\"First Owner\", 1)\n",
    "# df1['owner'] = df1['owner'].replace(\"Second Owner\", 2)\n",
    "# df1['owner'] = df1['owner'].replace(\"Third Owner\", 3)\n",
    "# df1['owner'] = df1['owner'].replace(\"Fourth Owner Or More\", 4)"
   ]
  },
  {
   "cell_type": "code",
   "execution_count": 38,
   "metadata": {},
   "outputs": [
    {
     "data": {
      "text/html": [
       "<div>\n",
       "<style scoped>\n",
       "    .dataframe tbody tr th:only-of-type {\n",
       "        vertical-align: middle;\n",
       "    }\n",
       "\n",
       "    .dataframe tbody tr th {\n",
       "        vertical-align: top;\n",
       "    }\n",
       "\n",
       "    .dataframe thead th {\n",
       "        text-align: right;\n",
       "    }\n",
       "</style>\n",
       "<table border=\"1\" class=\"dataframe\">\n",
       "  <thead>\n",
       "    <tr style=\"text-align: right;\">\n",
       "      <th></th>\n",
       "      <th>bike_name</th>\n",
       "      <th>price</th>\n",
       "      <th>city</th>\n",
       "      <th>kms_driven</th>\n",
       "      <th>age</th>\n",
       "      <th>power</th>\n",
       "      <th>brand</th>\n",
       "      <th>Owner_Type</th>\n",
       "    </tr>\n",
       "  </thead>\n",
       "  <tbody>\n",
       "    <tr>\n",
       "      <th>0</th>\n",
       "      <td>TVS Star City Plus Dual Tone 110cc</td>\n",
       "      <td>35000.0</td>\n",
       "      <td>Ahmedabad</td>\n",
       "      <td>17654.0</td>\n",
       "      <td>3</td>\n",
       "      <td>110</td>\n",
       "      <td>TVS</td>\n",
       "      <td>0</td>\n",
       "    </tr>\n",
       "    <tr>\n",
       "      <th>3</th>\n",
       "      <td>TVS Apache RTR 180cc</td>\n",
       "      <td>65000.0</td>\n",
       "      <td>Bangalore</td>\n",
       "      <td>16329.0</td>\n",
       "      <td>4</td>\n",
       "      <td>180</td>\n",
       "      <td>TVS</td>\n",
       "      <td>0</td>\n",
       "    </tr>\n",
       "    <tr>\n",
       "      <th>4</th>\n",
       "      <td>Yamaha FZ S V 2.0 150cc-Ltd. Edition</td>\n",
       "      <td>80000.0</td>\n",
       "      <td>Bangalore</td>\n",
       "      <td>10000.0</td>\n",
       "      <td>3</td>\n",
       "      <td>150</td>\n",
       "      <td>Yamaha</td>\n",
       "      <td>0</td>\n",
       "    </tr>\n",
       "    <tr>\n",
       "      <th>5</th>\n",
       "      <td>Yamaha FZs 150cc</td>\n",
       "      <td>53499.0</td>\n",
       "      <td>Delhi</td>\n",
       "      <td>25000.0</td>\n",
       "      <td>6</td>\n",
       "      <td>150</td>\n",
       "      <td>Yamaha</td>\n",
       "      <td>0</td>\n",
       "    </tr>\n",
       "    <tr>\n",
       "      <th>6</th>\n",
       "      <td>Honda CB Hornet 160R  ABS DLX</td>\n",
       "      <td>85000.0</td>\n",
       "      <td>Delhi</td>\n",
       "      <td>8200.0</td>\n",
       "      <td>3</td>\n",
       "      <td>160</td>\n",
       "      <td>Honda</td>\n",
       "      <td>0</td>\n",
       "    </tr>\n",
       "  </tbody>\n",
       "</table>\n",
       "</div>"
      ],
      "text/plain": [
       "                              bike_name    price       city  kms_driven  age  \\\n",
       "0    TVS Star City Plus Dual Tone 110cc  35000.0  Ahmedabad     17654.0    3   \n",
       "3                  TVS Apache RTR 180cc  65000.0  Bangalore     16329.0    4   \n",
       "4  Yamaha FZ S V 2.0 150cc-Ltd. Edition  80000.0  Bangalore     10000.0    3   \n",
       "5                      Yamaha FZs 150cc  53499.0      Delhi     25000.0    6   \n",
       "6         Honda CB Hornet 160R  ABS DLX  85000.0      Delhi      8200.0    3   \n",
       "\n",
       "   power   brand  Owner_Type  \n",
       "0    110     TVS           0  \n",
       "3    180     TVS           0  \n",
       "4    150  Yamaha           0  \n",
       "5    150  Yamaha           0  \n",
       "6    160   Honda           0  "
      ]
     },
     "execution_count": 38,
     "metadata": {},
     "output_type": "execute_result"
    }
   ],
   "source": [
    "df1.head()"
   ]
  },
  {
   "cell_type": "code",
   "execution_count": 39,
   "metadata": {},
   "outputs": [],
   "source": [
    "brands = ['TVS', 'Yamaha', 'Honda', 'Hero', 'Bajaj', 'Suzuki', 'Benelli',\n",
    "       'KTM', 'Mahindra', 'Hyosung', 'Jawa', 'BMW', 'Kawasaki', 'LML',\n",
    "       'Harley-Davidson']"
   ]
  },
  {
   "cell_type": "code",
   "execution_count": 40,
   "metadata": {},
   "outputs": [
    {
     "data": {
      "text/plain": [
       "Bajaj              10445\n",
       "Hero                5724\n",
       "Yamaha              3893\n",
       "Honda               2082\n",
       "Suzuki              1451\n",
       "TVS                 1233\n",
       "KTM                  247\n",
       "Mahindra              55\n",
       "Benelli               42\n",
       "Hyosung               40\n",
       "Kawasaki              23\n",
       "BMW                   12\n",
       "Jawa                  10\n",
       "LML                    1\n",
       "Harley-Davidson        1\n",
       "Name: brand, dtype: int64"
      ]
     },
     "execution_count": 40,
     "metadata": {},
     "output_type": "execute_result"
    }
   ],
   "source": [
    "df1['brand'].value_counts()"
   ]
  },
  {
   "cell_type": "code",
   "execution_count": 41,
   "metadata": {},
   "outputs": [],
   "source": [
    "brand_df = pd.get_dummies(df1['brand'])\n",
    "df1 = pd.concat([df1, brand_df], axis=1)"
   ]
  },
  {
   "cell_type": "code",
   "execution_count": 42,
   "metadata": {},
   "outputs": [
    {
     "data": {
      "text/html": [
       "<div>\n",
       "<style scoped>\n",
       "    .dataframe tbody tr th:only-of-type {\n",
       "        vertical-align: middle;\n",
       "    }\n",
       "\n",
       "    .dataframe tbody tr th {\n",
       "        vertical-align: top;\n",
       "    }\n",
       "\n",
       "    .dataframe thead th {\n",
       "        text-align: right;\n",
       "    }\n",
       "</style>\n",
       "<table border=\"1\" class=\"dataframe\">\n",
       "  <thead>\n",
       "    <tr style=\"text-align: right;\">\n",
       "      <th></th>\n",
       "      <th>bike_name</th>\n",
       "      <th>price</th>\n",
       "      <th>city</th>\n",
       "      <th>kms_driven</th>\n",
       "      <th>age</th>\n",
       "      <th>power</th>\n",
       "      <th>brand</th>\n",
       "      <th>Owner_Type</th>\n",
       "      <th>BMW</th>\n",
       "      <th>Bajaj</th>\n",
       "      <th>...</th>\n",
       "      <th>Honda</th>\n",
       "      <th>Hyosung</th>\n",
       "      <th>Jawa</th>\n",
       "      <th>KTM</th>\n",
       "      <th>Kawasaki</th>\n",
       "      <th>LML</th>\n",
       "      <th>Mahindra</th>\n",
       "      <th>Suzuki</th>\n",
       "      <th>TVS</th>\n",
       "      <th>Yamaha</th>\n",
       "    </tr>\n",
       "  </thead>\n",
       "  <tbody>\n",
       "    <tr>\n",
       "      <th>0</th>\n",
       "      <td>TVS Star City Plus Dual Tone 110cc</td>\n",
       "      <td>35000.0</td>\n",
       "      <td>Ahmedabad</td>\n",
       "      <td>17654.0</td>\n",
       "      <td>3</td>\n",
       "      <td>110</td>\n",
       "      <td>TVS</td>\n",
       "      <td>0</td>\n",
       "      <td>0</td>\n",
       "      <td>0</td>\n",
       "      <td>...</td>\n",
       "      <td>0</td>\n",
       "      <td>0</td>\n",
       "      <td>0</td>\n",
       "      <td>0</td>\n",
       "      <td>0</td>\n",
       "      <td>0</td>\n",
       "      <td>0</td>\n",
       "      <td>0</td>\n",
       "      <td>1</td>\n",
       "      <td>0</td>\n",
       "    </tr>\n",
       "    <tr>\n",
       "      <th>3</th>\n",
       "      <td>TVS Apache RTR 180cc</td>\n",
       "      <td>65000.0</td>\n",
       "      <td>Bangalore</td>\n",
       "      <td>16329.0</td>\n",
       "      <td>4</td>\n",
       "      <td>180</td>\n",
       "      <td>TVS</td>\n",
       "      <td>0</td>\n",
       "      <td>0</td>\n",
       "      <td>0</td>\n",
       "      <td>...</td>\n",
       "      <td>0</td>\n",
       "      <td>0</td>\n",
       "      <td>0</td>\n",
       "      <td>0</td>\n",
       "      <td>0</td>\n",
       "      <td>0</td>\n",
       "      <td>0</td>\n",
       "      <td>0</td>\n",
       "      <td>1</td>\n",
       "      <td>0</td>\n",
       "    </tr>\n",
       "    <tr>\n",
       "      <th>4</th>\n",
       "      <td>Yamaha FZ S V 2.0 150cc-Ltd. Edition</td>\n",
       "      <td>80000.0</td>\n",
       "      <td>Bangalore</td>\n",
       "      <td>10000.0</td>\n",
       "      <td>3</td>\n",
       "      <td>150</td>\n",
       "      <td>Yamaha</td>\n",
       "      <td>0</td>\n",
       "      <td>0</td>\n",
       "      <td>0</td>\n",
       "      <td>...</td>\n",
       "      <td>0</td>\n",
       "      <td>0</td>\n",
       "      <td>0</td>\n",
       "      <td>0</td>\n",
       "      <td>0</td>\n",
       "      <td>0</td>\n",
       "      <td>0</td>\n",
       "      <td>0</td>\n",
       "      <td>0</td>\n",
       "      <td>1</td>\n",
       "    </tr>\n",
       "    <tr>\n",
       "      <th>5</th>\n",
       "      <td>Yamaha FZs 150cc</td>\n",
       "      <td>53499.0</td>\n",
       "      <td>Delhi</td>\n",
       "      <td>25000.0</td>\n",
       "      <td>6</td>\n",
       "      <td>150</td>\n",
       "      <td>Yamaha</td>\n",
       "      <td>0</td>\n",
       "      <td>0</td>\n",
       "      <td>0</td>\n",
       "      <td>...</td>\n",
       "      <td>0</td>\n",
       "      <td>0</td>\n",
       "      <td>0</td>\n",
       "      <td>0</td>\n",
       "      <td>0</td>\n",
       "      <td>0</td>\n",
       "      <td>0</td>\n",
       "      <td>0</td>\n",
       "      <td>0</td>\n",
       "      <td>1</td>\n",
       "    </tr>\n",
       "    <tr>\n",
       "      <th>6</th>\n",
       "      <td>Honda CB Hornet 160R  ABS DLX</td>\n",
       "      <td>85000.0</td>\n",
       "      <td>Delhi</td>\n",
       "      <td>8200.0</td>\n",
       "      <td>3</td>\n",
       "      <td>160</td>\n",
       "      <td>Honda</td>\n",
       "      <td>0</td>\n",
       "      <td>0</td>\n",
       "      <td>0</td>\n",
       "      <td>...</td>\n",
       "      <td>1</td>\n",
       "      <td>0</td>\n",
       "      <td>0</td>\n",
       "      <td>0</td>\n",
       "      <td>0</td>\n",
       "      <td>0</td>\n",
       "      <td>0</td>\n",
       "      <td>0</td>\n",
       "      <td>0</td>\n",
       "      <td>0</td>\n",
       "    </tr>\n",
       "  </tbody>\n",
       "</table>\n",
       "<p>5 rows × 23 columns</p>\n",
       "</div>"
      ],
      "text/plain": [
       "                              bike_name    price       city  kms_driven  age  \\\n",
       "0    TVS Star City Plus Dual Tone 110cc  35000.0  Ahmedabad     17654.0    3   \n",
       "3                  TVS Apache RTR 180cc  65000.0  Bangalore     16329.0    4   \n",
       "4  Yamaha FZ S V 2.0 150cc-Ltd. Edition  80000.0  Bangalore     10000.0    3   \n",
       "5                      Yamaha FZs 150cc  53499.0      Delhi     25000.0    6   \n",
       "6         Honda CB Hornet 160R  ABS DLX  85000.0      Delhi      8200.0    3   \n",
       "\n",
       "   power   brand  Owner_Type  BMW  Bajaj  ...  Honda  Hyosung  Jawa  KTM  \\\n",
       "0    110     TVS           0    0      0  ...      0        0     0    0   \n",
       "3    180     TVS           0    0      0  ...      0        0     0    0   \n",
       "4    150  Yamaha           0    0      0  ...      0        0     0    0   \n",
       "5    150  Yamaha           0    0      0  ...      0        0     0    0   \n",
       "6    160   Honda           0    0      0  ...      1        0     0    0   \n",
       "\n",
       "   Kawasaki  LML  Mahindra  Suzuki  TVS  Yamaha  \n",
       "0         0    0         0       0    1       0  \n",
       "3         0    0         0       0    1       0  \n",
       "4         0    0         0       0    0       1  \n",
       "5         0    0         0       0    0       1  \n",
       "6         0    0         0       0    0       0  \n",
       "\n",
       "[5 rows x 23 columns]"
      ]
     },
     "execution_count": 42,
     "metadata": {},
     "output_type": "execute_result"
    }
   ],
   "source": [
    "df1.head()"
   ]
  },
  {
   "cell_type": "code",
   "execution_count": 43,
   "metadata": {},
   "outputs": [],
   "source": [
    "df1.drop(columns=['bike_name'], inplace=True)"
   ]
  },
  {
   "cell_type": "code",
   "execution_count": 44,
   "metadata": {},
   "outputs": [
    {
     "data": {
      "text/plain": [
       "0        35000.0\n",
       "3        65000.0\n",
       "4        80000.0\n",
       "5        53499.0\n",
       "6        85000.0\n",
       "          ...   \n",
       "32643    39000.0\n",
       "32644    30000.0\n",
       "32645    60000.0\n",
       "32646    15600.0\n",
       "32647    22000.0\n",
       "Name: price, Length: 25259, dtype: float64"
      ]
     },
     "execution_count": 44,
     "metadata": {},
     "output_type": "execute_result"
    }
   ],
   "source": [
    "y = df1[['price']]\n",
    "df1.pop('price')"
   ]
  },
  {
   "cell_type": "code",
   "execution_count": 45,
   "metadata": {},
   "outputs": [
    {
     "data": {
      "text/html": [
       "<div>\n",
       "<style scoped>\n",
       "    .dataframe tbody tr th:only-of-type {\n",
       "        vertical-align: middle;\n",
       "    }\n",
       "\n",
       "    .dataframe tbody tr th {\n",
       "        vertical-align: top;\n",
       "    }\n",
       "\n",
       "    .dataframe thead th {\n",
       "        text-align: right;\n",
       "    }\n",
       "</style>\n",
       "<table border=\"1\" class=\"dataframe\">\n",
       "  <thead>\n",
       "    <tr style=\"text-align: right;\">\n",
       "      <th></th>\n",
       "      <th>city</th>\n",
       "      <th>kms_driven</th>\n",
       "      <th>age</th>\n",
       "      <th>power</th>\n",
       "      <th>brand</th>\n",
       "      <th>Owner_Type</th>\n",
       "      <th>BMW</th>\n",
       "      <th>Bajaj</th>\n",
       "      <th>Benelli</th>\n",
       "      <th>Harley-Davidson</th>\n",
       "      <th>...</th>\n",
       "      <th>Honda</th>\n",
       "      <th>Hyosung</th>\n",
       "      <th>Jawa</th>\n",
       "      <th>KTM</th>\n",
       "      <th>Kawasaki</th>\n",
       "      <th>LML</th>\n",
       "      <th>Mahindra</th>\n",
       "      <th>Suzuki</th>\n",
       "      <th>TVS</th>\n",
       "      <th>Yamaha</th>\n",
       "    </tr>\n",
       "  </thead>\n",
       "  <tbody>\n",
       "    <tr>\n",
       "      <th>0</th>\n",
       "      <td>Ahmedabad</td>\n",
       "      <td>17654.0</td>\n",
       "      <td>3</td>\n",
       "      <td>110</td>\n",
       "      <td>TVS</td>\n",
       "      <td>0</td>\n",
       "      <td>0</td>\n",
       "      <td>0</td>\n",
       "      <td>0</td>\n",
       "      <td>0</td>\n",
       "      <td>...</td>\n",
       "      <td>0</td>\n",
       "      <td>0</td>\n",
       "      <td>0</td>\n",
       "      <td>0</td>\n",
       "      <td>0</td>\n",
       "      <td>0</td>\n",
       "      <td>0</td>\n",
       "      <td>0</td>\n",
       "      <td>1</td>\n",
       "      <td>0</td>\n",
       "    </tr>\n",
       "    <tr>\n",
       "      <th>3</th>\n",
       "      <td>Bangalore</td>\n",
       "      <td>16329.0</td>\n",
       "      <td>4</td>\n",
       "      <td>180</td>\n",
       "      <td>TVS</td>\n",
       "      <td>0</td>\n",
       "      <td>0</td>\n",
       "      <td>0</td>\n",
       "      <td>0</td>\n",
       "      <td>0</td>\n",
       "      <td>...</td>\n",
       "      <td>0</td>\n",
       "      <td>0</td>\n",
       "      <td>0</td>\n",
       "      <td>0</td>\n",
       "      <td>0</td>\n",
       "      <td>0</td>\n",
       "      <td>0</td>\n",
       "      <td>0</td>\n",
       "      <td>1</td>\n",
       "      <td>0</td>\n",
       "    </tr>\n",
       "    <tr>\n",
       "      <th>4</th>\n",
       "      <td>Bangalore</td>\n",
       "      <td>10000.0</td>\n",
       "      <td>3</td>\n",
       "      <td>150</td>\n",
       "      <td>Yamaha</td>\n",
       "      <td>0</td>\n",
       "      <td>0</td>\n",
       "      <td>0</td>\n",
       "      <td>0</td>\n",
       "      <td>0</td>\n",
       "      <td>...</td>\n",
       "      <td>0</td>\n",
       "      <td>0</td>\n",
       "      <td>0</td>\n",
       "      <td>0</td>\n",
       "      <td>0</td>\n",
       "      <td>0</td>\n",
       "      <td>0</td>\n",
       "      <td>0</td>\n",
       "      <td>0</td>\n",
       "      <td>1</td>\n",
       "    </tr>\n",
       "    <tr>\n",
       "      <th>5</th>\n",
       "      <td>Delhi</td>\n",
       "      <td>25000.0</td>\n",
       "      <td>6</td>\n",
       "      <td>150</td>\n",
       "      <td>Yamaha</td>\n",
       "      <td>0</td>\n",
       "      <td>0</td>\n",
       "      <td>0</td>\n",
       "      <td>0</td>\n",
       "      <td>0</td>\n",
       "      <td>...</td>\n",
       "      <td>0</td>\n",
       "      <td>0</td>\n",
       "      <td>0</td>\n",
       "      <td>0</td>\n",
       "      <td>0</td>\n",
       "      <td>0</td>\n",
       "      <td>0</td>\n",
       "      <td>0</td>\n",
       "      <td>0</td>\n",
       "      <td>1</td>\n",
       "    </tr>\n",
       "    <tr>\n",
       "      <th>6</th>\n",
       "      <td>Delhi</td>\n",
       "      <td>8200.0</td>\n",
       "      <td>3</td>\n",
       "      <td>160</td>\n",
       "      <td>Honda</td>\n",
       "      <td>0</td>\n",
       "      <td>0</td>\n",
       "      <td>0</td>\n",
       "      <td>0</td>\n",
       "      <td>0</td>\n",
       "      <td>...</td>\n",
       "      <td>1</td>\n",
       "      <td>0</td>\n",
       "      <td>0</td>\n",
       "      <td>0</td>\n",
       "      <td>0</td>\n",
       "      <td>0</td>\n",
       "      <td>0</td>\n",
       "      <td>0</td>\n",
       "      <td>0</td>\n",
       "      <td>0</td>\n",
       "    </tr>\n",
       "    <tr>\n",
       "      <th>...</th>\n",
       "      <td>...</td>\n",
       "      <td>...</td>\n",
       "      <td>...</td>\n",
       "      <td>...</td>\n",
       "      <td>...</td>\n",
       "      <td>...</td>\n",
       "      <td>...</td>\n",
       "      <td>...</td>\n",
       "      <td>...</td>\n",
       "      <td>...</td>\n",
       "      <td>...</td>\n",
       "      <td>...</td>\n",
       "      <td>...</td>\n",
       "      <td>...</td>\n",
       "      <td>...</td>\n",
       "      <td>...</td>\n",
       "      <td>...</td>\n",
       "      <td>...</td>\n",
       "      <td>...</td>\n",
       "      <td>...</td>\n",
       "      <td>...</td>\n",
       "    </tr>\n",
       "    <tr>\n",
       "      <th>32643</th>\n",
       "      <td>Delhi</td>\n",
       "      <td>22000.0</td>\n",
       "      <td>4</td>\n",
       "      <td>100</td>\n",
       "      <td>Hero</td>\n",
       "      <td>0</td>\n",
       "      <td>0</td>\n",
       "      <td>0</td>\n",
       "      <td>0</td>\n",
       "      <td>0</td>\n",
       "      <td>...</td>\n",
       "      <td>0</td>\n",
       "      <td>0</td>\n",
       "      <td>0</td>\n",
       "      <td>0</td>\n",
       "      <td>0</td>\n",
       "      <td>0</td>\n",
       "      <td>0</td>\n",
       "      <td>0</td>\n",
       "      <td>0</td>\n",
       "      <td>0</td>\n",
       "    </tr>\n",
       "    <tr>\n",
       "      <th>32644</th>\n",
       "      <td>Karnal</td>\n",
       "      <td>6639.0</td>\n",
       "      <td>9</td>\n",
       "      <td>180</td>\n",
       "      <td>TVS</td>\n",
       "      <td>0</td>\n",
       "      <td>0</td>\n",
       "      <td>0</td>\n",
       "      <td>0</td>\n",
       "      <td>0</td>\n",
       "      <td>...</td>\n",
       "      <td>0</td>\n",
       "      <td>0</td>\n",
       "      <td>0</td>\n",
       "      <td>0</td>\n",
       "      <td>0</td>\n",
       "      <td>0</td>\n",
       "      <td>0</td>\n",
       "      <td>0</td>\n",
       "      <td>1</td>\n",
       "      <td>0</td>\n",
       "    </tr>\n",
       "    <tr>\n",
       "      <th>32645</th>\n",
       "      <td>Delhi</td>\n",
       "      <td>20373.0</td>\n",
       "      <td>6</td>\n",
       "      <td>220</td>\n",
       "      <td>Bajaj</td>\n",
       "      <td>0</td>\n",
       "      <td>0</td>\n",
       "      <td>1</td>\n",
       "      <td>0</td>\n",
       "      <td>0</td>\n",
       "      <td>...</td>\n",
       "      <td>0</td>\n",
       "      <td>0</td>\n",
       "      <td>0</td>\n",
       "      <td>0</td>\n",
       "      <td>0</td>\n",
       "      <td>0</td>\n",
       "      <td>0</td>\n",
       "      <td>0</td>\n",
       "      <td>0</td>\n",
       "      <td>0</td>\n",
       "    </tr>\n",
       "    <tr>\n",
       "      <th>32646</th>\n",
       "      <td>Jaipur</td>\n",
       "      <td>84186.0</td>\n",
       "      <td>16</td>\n",
       "      <td>125</td>\n",
       "      <td>Hero</td>\n",
       "      <td>0</td>\n",
       "      <td>0</td>\n",
       "      <td>0</td>\n",
       "      <td>0</td>\n",
       "      <td>0</td>\n",
       "      <td>...</td>\n",
       "      <td>0</td>\n",
       "      <td>0</td>\n",
       "      <td>0</td>\n",
       "      <td>0</td>\n",
       "      <td>0</td>\n",
       "      <td>0</td>\n",
       "      <td>0</td>\n",
       "      <td>0</td>\n",
       "      <td>0</td>\n",
       "      <td>0</td>\n",
       "    </tr>\n",
       "    <tr>\n",
       "      <th>32647</th>\n",
       "      <td>Pune</td>\n",
       "      <td>60857.0</td>\n",
       "      <td>13</td>\n",
       "      <td>150</td>\n",
       "      <td>Bajaj</td>\n",
       "      <td>0</td>\n",
       "      <td>0</td>\n",
       "      <td>1</td>\n",
       "      <td>0</td>\n",
       "      <td>0</td>\n",
       "      <td>...</td>\n",
       "      <td>0</td>\n",
       "      <td>0</td>\n",
       "      <td>0</td>\n",
       "      <td>0</td>\n",
       "      <td>0</td>\n",
       "      <td>0</td>\n",
       "      <td>0</td>\n",
       "      <td>0</td>\n",
       "      <td>0</td>\n",
       "      <td>0</td>\n",
       "    </tr>\n",
       "  </tbody>\n",
       "</table>\n",
       "<p>25259 rows × 21 columns</p>\n",
       "</div>"
      ],
      "text/plain": [
       "            city  kms_driven  age  power   brand  Owner_Type  BMW  Bajaj  \\\n",
       "0      Ahmedabad     17654.0    3    110     TVS           0    0      0   \n",
       "3      Bangalore     16329.0    4    180     TVS           0    0      0   \n",
       "4      Bangalore     10000.0    3    150  Yamaha           0    0      0   \n",
       "5          Delhi     25000.0    6    150  Yamaha           0    0      0   \n",
       "6          Delhi      8200.0    3    160   Honda           0    0      0   \n",
       "...          ...         ...  ...    ...     ...         ...  ...    ...   \n",
       "32643      Delhi     22000.0    4    100    Hero           0    0      0   \n",
       "32644     Karnal      6639.0    9    180     TVS           0    0      0   \n",
       "32645      Delhi     20373.0    6    220   Bajaj           0    0      1   \n",
       "32646     Jaipur     84186.0   16    125    Hero           0    0      0   \n",
       "32647       Pune     60857.0   13    150   Bajaj           0    0      1   \n",
       "\n",
       "       Benelli  Harley-Davidson  ...  Honda  Hyosung  Jawa  KTM  Kawasaki  \\\n",
       "0            0                0  ...      0        0     0    0         0   \n",
       "3            0                0  ...      0        0     0    0         0   \n",
       "4            0                0  ...      0        0     0    0         0   \n",
       "5            0                0  ...      0        0     0    0         0   \n",
       "6            0                0  ...      1        0     0    0         0   \n",
       "...        ...              ...  ...    ...      ...   ...  ...       ...   \n",
       "32643        0                0  ...      0        0     0    0         0   \n",
       "32644        0                0  ...      0        0     0    0         0   \n",
       "32645        0                0  ...      0        0     0    0         0   \n",
       "32646        0                0  ...      0        0     0    0         0   \n",
       "32647        0                0  ...      0        0     0    0         0   \n",
       "\n",
       "       LML  Mahindra  Suzuki  TVS  Yamaha  \n",
       "0        0         0       0    1       0  \n",
       "3        0         0       0    1       0  \n",
       "4        0         0       0    0       1  \n",
       "5        0         0       0    0       1  \n",
       "6        0         0       0    0       0  \n",
       "...    ...       ...     ...  ...     ...  \n",
       "32643    0         0       0    0       0  \n",
       "32644    0         0       0    1       0  \n",
       "32645    0         0       0    0       0  \n",
       "32646    0         0       0    0       0  \n",
       "32647    0         0       0    0       0  \n",
       "\n",
       "[25259 rows x 21 columns]"
      ]
     },
     "execution_count": 45,
     "metadata": {},
     "output_type": "execute_result"
    }
   ],
   "source": [
    "df1"
   ]
  },
  {
   "cell_type": "code",
   "execution_count": 46,
   "metadata": {},
   "outputs": [],
   "source": [
    "df1.drop(columns=['city'], inplace=True)"
   ]
  },
  {
   "cell_type": "code",
   "execution_count": 47,
   "metadata": {},
   "outputs": [
    {
     "data": {
      "text/html": [
       "<div>\n",
       "<style scoped>\n",
       "    .dataframe tbody tr th:only-of-type {\n",
       "        vertical-align: middle;\n",
       "    }\n",
       "\n",
       "    .dataframe tbody tr th {\n",
       "        vertical-align: top;\n",
       "    }\n",
       "\n",
       "    .dataframe thead th {\n",
       "        text-align: right;\n",
       "    }\n",
       "</style>\n",
       "<table border=\"1\" class=\"dataframe\">\n",
       "  <thead>\n",
       "    <tr style=\"text-align: right;\">\n",
       "      <th></th>\n",
       "      <th>kms_driven</th>\n",
       "      <th>age</th>\n",
       "      <th>power</th>\n",
       "      <th>brand</th>\n",
       "      <th>Owner_Type</th>\n",
       "      <th>BMW</th>\n",
       "      <th>Bajaj</th>\n",
       "      <th>Benelli</th>\n",
       "      <th>Harley-Davidson</th>\n",
       "      <th>Hero</th>\n",
       "      <th>Honda</th>\n",
       "      <th>Hyosung</th>\n",
       "      <th>Jawa</th>\n",
       "      <th>KTM</th>\n",
       "      <th>Kawasaki</th>\n",
       "      <th>LML</th>\n",
       "      <th>Mahindra</th>\n",
       "      <th>Suzuki</th>\n",
       "      <th>TVS</th>\n",
       "      <th>Yamaha</th>\n",
       "    </tr>\n",
       "  </thead>\n",
       "  <tbody>\n",
       "    <tr>\n",
       "      <th>0</th>\n",
       "      <td>17654.0</td>\n",
       "      <td>3</td>\n",
       "      <td>110</td>\n",
       "      <td>TVS</td>\n",
       "      <td>0</td>\n",
       "      <td>0</td>\n",
       "      <td>0</td>\n",
       "      <td>0</td>\n",
       "      <td>0</td>\n",
       "      <td>0</td>\n",
       "      <td>0</td>\n",
       "      <td>0</td>\n",
       "      <td>0</td>\n",
       "      <td>0</td>\n",
       "      <td>0</td>\n",
       "      <td>0</td>\n",
       "      <td>0</td>\n",
       "      <td>0</td>\n",
       "      <td>1</td>\n",
       "      <td>0</td>\n",
       "    </tr>\n",
       "    <tr>\n",
       "      <th>3</th>\n",
       "      <td>16329.0</td>\n",
       "      <td>4</td>\n",
       "      <td>180</td>\n",
       "      <td>TVS</td>\n",
       "      <td>0</td>\n",
       "      <td>0</td>\n",
       "      <td>0</td>\n",
       "      <td>0</td>\n",
       "      <td>0</td>\n",
       "      <td>0</td>\n",
       "      <td>0</td>\n",
       "      <td>0</td>\n",
       "      <td>0</td>\n",
       "      <td>0</td>\n",
       "      <td>0</td>\n",
       "      <td>0</td>\n",
       "      <td>0</td>\n",
       "      <td>0</td>\n",
       "      <td>1</td>\n",
       "      <td>0</td>\n",
       "    </tr>\n",
       "    <tr>\n",
       "      <th>4</th>\n",
       "      <td>10000.0</td>\n",
       "      <td>3</td>\n",
       "      <td>150</td>\n",
       "      <td>Yamaha</td>\n",
       "      <td>0</td>\n",
       "      <td>0</td>\n",
       "      <td>0</td>\n",
       "      <td>0</td>\n",
       "      <td>0</td>\n",
       "      <td>0</td>\n",
       "      <td>0</td>\n",
       "      <td>0</td>\n",
       "      <td>0</td>\n",
       "      <td>0</td>\n",
       "      <td>0</td>\n",
       "      <td>0</td>\n",
       "      <td>0</td>\n",
       "      <td>0</td>\n",
       "      <td>0</td>\n",
       "      <td>1</td>\n",
       "    </tr>\n",
       "    <tr>\n",
       "      <th>5</th>\n",
       "      <td>25000.0</td>\n",
       "      <td>6</td>\n",
       "      <td>150</td>\n",
       "      <td>Yamaha</td>\n",
       "      <td>0</td>\n",
       "      <td>0</td>\n",
       "      <td>0</td>\n",
       "      <td>0</td>\n",
       "      <td>0</td>\n",
       "      <td>0</td>\n",
       "      <td>0</td>\n",
       "      <td>0</td>\n",
       "      <td>0</td>\n",
       "      <td>0</td>\n",
       "      <td>0</td>\n",
       "      <td>0</td>\n",
       "      <td>0</td>\n",
       "      <td>0</td>\n",
       "      <td>0</td>\n",
       "      <td>1</td>\n",
       "    </tr>\n",
       "    <tr>\n",
       "      <th>6</th>\n",
       "      <td>8200.0</td>\n",
       "      <td>3</td>\n",
       "      <td>160</td>\n",
       "      <td>Honda</td>\n",
       "      <td>0</td>\n",
       "      <td>0</td>\n",
       "      <td>0</td>\n",
       "      <td>0</td>\n",
       "      <td>0</td>\n",
       "      <td>0</td>\n",
       "      <td>1</td>\n",
       "      <td>0</td>\n",
       "      <td>0</td>\n",
       "      <td>0</td>\n",
       "      <td>0</td>\n",
       "      <td>0</td>\n",
       "      <td>0</td>\n",
       "      <td>0</td>\n",
       "      <td>0</td>\n",
       "      <td>0</td>\n",
       "    </tr>\n",
       "  </tbody>\n",
       "</table>\n",
       "</div>"
      ],
      "text/plain": [
       "   kms_driven  age  power   brand  Owner_Type  BMW  Bajaj  Benelli  \\\n",
       "0     17654.0    3    110     TVS           0    0      0        0   \n",
       "3     16329.0    4    180     TVS           0    0      0        0   \n",
       "4     10000.0    3    150  Yamaha           0    0      0        0   \n",
       "5     25000.0    6    150  Yamaha           0    0      0        0   \n",
       "6      8200.0    3    160   Honda           0    0      0        0   \n",
       "\n",
       "   Harley-Davidson  Hero  Honda  Hyosung  Jawa  KTM  Kawasaki  LML  Mahindra  \\\n",
       "0                0     0      0        0     0    0         0    0         0   \n",
       "3                0     0      0        0     0    0         0    0         0   \n",
       "4                0     0      0        0     0    0         0    0         0   \n",
       "5                0     0      0        0     0    0         0    0         0   \n",
       "6                0     0      1        0     0    0         0    0         0   \n",
       "\n",
       "   Suzuki  TVS  Yamaha  \n",
       "0       0    1       0  \n",
       "3       0    1       0  \n",
       "4       0    0       1  \n",
       "5       0    0       1  \n",
       "6       0    0       0  "
      ]
     },
     "execution_count": 47,
     "metadata": {},
     "output_type": "execute_result"
    }
   ],
   "source": [
    "df1.head()"
   ]
  },
  {
   "cell_type": "code",
   "execution_count": 48,
   "metadata": {},
   "outputs": [],
   "source": [
    "df1.drop(columns=['brand'], inplace=True)"
   ]
  },
  {
   "cell_type": "code",
   "execution_count": 49,
   "metadata": {},
   "outputs": [
    {
     "data": {
      "text/html": [
       "<div>\n",
       "<style scoped>\n",
       "    .dataframe tbody tr th:only-of-type {\n",
       "        vertical-align: middle;\n",
       "    }\n",
       "\n",
       "    .dataframe tbody tr th {\n",
       "        vertical-align: top;\n",
       "    }\n",
       "\n",
       "    .dataframe thead th {\n",
       "        text-align: right;\n",
       "    }\n",
       "</style>\n",
       "<table border=\"1\" class=\"dataframe\">\n",
       "  <thead>\n",
       "    <tr style=\"text-align: right;\">\n",
       "      <th></th>\n",
       "      <th>kms_driven</th>\n",
       "      <th>age</th>\n",
       "      <th>power</th>\n",
       "      <th>Owner_Type</th>\n",
       "      <th>BMW</th>\n",
       "      <th>Bajaj</th>\n",
       "      <th>Benelli</th>\n",
       "      <th>Harley-Davidson</th>\n",
       "      <th>Hero</th>\n",
       "      <th>Honda</th>\n",
       "      <th>Hyosung</th>\n",
       "      <th>Jawa</th>\n",
       "      <th>KTM</th>\n",
       "      <th>Kawasaki</th>\n",
       "      <th>LML</th>\n",
       "      <th>Mahindra</th>\n",
       "      <th>Suzuki</th>\n",
       "      <th>TVS</th>\n",
       "      <th>Yamaha</th>\n",
       "    </tr>\n",
       "  </thead>\n",
       "  <tbody>\n",
       "    <tr>\n",
       "      <th>0</th>\n",
       "      <td>17654.0</td>\n",
       "      <td>3</td>\n",
       "      <td>110</td>\n",
       "      <td>0</td>\n",
       "      <td>0</td>\n",
       "      <td>0</td>\n",
       "      <td>0</td>\n",
       "      <td>0</td>\n",
       "      <td>0</td>\n",
       "      <td>0</td>\n",
       "      <td>0</td>\n",
       "      <td>0</td>\n",
       "      <td>0</td>\n",
       "      <td>0</td>\n",
       "      <td>0</td>\n",
       "      <td>0</td>\n",
       "      <td>0</td>\n",
       "      <td>1</td>\n",
       "      <td>0</td>\n",
       "    </tr>\n",
       "    <tr>\n",
       "      <th>3</th>\n",
       "      <td>16329.0</td>\n",
       "      <td>4</td>\n",
       "      <td>180</td>\n",
       "      <td>0</td>\n",
       "      <td>0</td>\n",
       "      <td>0</td>\n",
       "      <td>0</td>\n",
       "      <td>0</td>\n",
       "      <td>0</td>\n",
       "      <td>0</td>\n",
       "      <td>0</td>\n",
       "      <td>0</td>\n",
       "      <td>0</td>\n",
       "      <td>0</td>\n",
       "      <td>0</td>\n",
       "      <td>0</td>\n",
       "      <td>0</td>\n",
       "      <td>1</td>\n",
       "      <td>0</td>\n",
       "    </tr>\n",
       "    <tr>\n",
       "      <th>4</th>\n",
       "      <td>10000.0</td>\n",
       "      <td>3</td>\n",
       "      <td>150</td>\n",
       "      <td>0</td>\n",
       "      <td>0</td>\n",
       "      <td>0</td>\n",
       "      <td>0</td>\n",
       "      <td>0</td>\n",
       "      <td>0</td>\n",
       "      <td>0</td>\n",
       "      <td>0</td>\n",
       "      <td>0</td>\n",
       "      <td>0</td>\n",
       "      <td>0</td>\n",
       "      <td>0</td>\n",
       "      <td>0</td>\n",
       "      <td>0</td>\n",
       "      <td>0</td>\n",
       "      <td>1</td>\n",
       "    </tr>\n",
       "    <tr>\n",
       "      <th>5</th>\n",
       "      <td>25000.0</td>\n",
       "      <td>6</td>\n",
       "      <td>150</td>\n",
       "      <td>0</td>\n",
       "      <td>0</td>\n",
       "      <td>0</td>\n",
       "      <td>0</td>\n",
       "      <td>0</td>\n",
       "      <td>0</td>\n",
       "      <td>0</td>\n",
       "      <td>0</td>\n",
       "      <td>0</td>\n",
       "      <td>0</td>\n",
       "      <td>0</td>\n",
       "      <td>0</td>\n",
       "      <td>0</td>\n",
       "      <td>0</td>\n",
       "      <td>0</td>\n",
       "      <td>1</td>\n",
       "    </tr>\n",
       "    <tr>\n",
       "      <th>6</th>\n",
       "      <td>8200.0</td>\n",
       "      <td>3</td>\n",
       "      <td>160</td>\n",
       "      <td>0</td>\n",
       "      <td>0</td>\n",
       "      <td>0</td>\n",
       "      <td>0</td>\n",
       "      <td>0</td>\n",
       "      <td>0</td>\n",
       "      <td>1</td>\n",
       "      <td>0</td>\n",
       "      <td>0</td>\n",
       "      <td>0</td>\n",
       "      <td>0</td>\n",
       "      <td>0</td>\n",
       "      <td>0</td>\n",
       "      <td>0</td>\n",
       "      <td>0</td>\n",
       "      <td>0</td>\n",
       "    </tr>\n",
       "  </tbody>\n",
       "</table>\n",
       "</div>"
      ],
      "text/plain": [
       "   kms_driven  age  power  Owner_Type  BMW  Bajaj  Benelli  Harley-Davidson  \\\n",
       "0     17654.0    3    110           0    0      0        0                0   \n",
       "3     16329.0    4    180           0    0      0        0                0   \n",
       "4     10000.0    3    150           0    0      0        0                0   \n",
       "5     25000.0    6    150           0    0      0        0                0   \n",
       "6      8200.0    3    160           0    0      0        0                0   \n",
       "\n",
       "   Hero  Honda  Hyosung  Jawa  KTM  Kawasaki  LML  Mahindra  Suzuki  TVS  \\\n",
       "0     0      0        0     0    0         0    0         0       0    1   \n",
       "3     0      0        0     0    0         0    0         0       0    1   \n",
       "4     0      0        0     0    0         0    0         0       0    0   \n",
       "5     0      0        0     0    0         0    0         0       0    0   \n",
       "6     0      1        0     0    0         0    0         0       0    0   \n",
       "\n",
       "   Yamaha  \n",
       "0       0  \n",
       "3       0  \n",
       "4       1  \n",
       "5       1  \n",
       "6       0  "
      ]
     },
     "execution_count": 49,
     "metadata": {},
     "output_type": "execute_result"
    }
   ],
   "source": [
    "df1.head()"
   ]
  },
  {
   "cell_type": "code",
   "execution_count": 50,
   "metadata": {},
   "outputs": [],
   "source": [
    "X = df1"
   ]
  },
  {
   "cell_type": "code",
   "execution_count": 51,
   "metadata": {},
   "outputs": [],
   "source": [
    "from sklearn.model_selection import train_test_split\n",
    "from sklearn.linear_model import LinearRegression\n",
    "from sklearn.ensemble import RandomForestRegressor\n",
    "from xgboost import XGBRegressor\n",
    "from sklearn.preprocessing import StandardScaler\n",
    "from sklearn.metrics import mean_absolute_error\n",
    "from sklearn.metrics import mean_squared_error\n",
    "from sklearn.metrics import r2_score"
   ]
  },
  {
   "cell_type": "code",
   "execution_count": 52,
   "metadata": {},
   "outputs": [],
   "source": [
    "X_train, X_test, y_train, y_test = train_test_split(X, y, test_size=0.25, random_state=42)"
   ]
  },
  {
   "cell_type": "code",
   "execution_count": 53,
   "metadata": {},
   "outputs": [],
   "source": [
    "nums_vars = df1.columns"
   ]
  },
  {
   "cell_type": "code",
   "execution_count": 54,
   "metadata": {},
   "outputs": [],
   "source": [
    "ss = StandardScaler()\n",
    "X_train[nums_vars] = ss.fit_transform(X_train[nums_vars])\n",
    "X_test[nums_vars] = ss.transform(X_test[nums_vars])\n"
   ]
  },
  {
   "cell_type": "code",
   "execution_count": 55,
   "metadata": {},
   "outputs": [
    {
     "name": "stdout",
     "output_type": "stream",
     "text": [
      "-0.00015837820467612396\n",
      "4756731697814.637\n",
      "1.428863245449029e+29\n"
     ]
    }
   ],
   "source": [
    "lr  = LinearRegression()\n",
    "lr.fit(X_train, y_train)\n",
    "y_pred = lr.predict(X_test)\n",
    "print(r2_score(y_pred, y_test))\n",
    "print(mean_absolute_error(y_pred, y_test))\n",
    "print(mean_squared_error(y_pred, y_test))"
   ]
  },
  {
   "cell_type": "code",
   "execution_count": 56,
   "metadata": {},
   "outputs": [
    {
     "name": "stderr",
     "output_type": "stream",
     "text": [
      "C:\\Users\\patil\\AppData\\Local\\Temp\\ipykernel_11600\\2486515246.py:2: DataConversionWarning: A column-vector y was passed when a 1d array was expected. Please change the shape of y to (n_samples,), for example using ravel().\n",
      "  rfr.fit(X_train, y_train)\n"
     ]
    },
    {
     "name": "stdout",
     "output_type": "stream",
     "text": [
      "0.9582861230147472\n",
      "1724.5863025616418\n",
      "24347090.027520444\n",
      "4934.27705216483\n"
     ]
    }
   ],
   "source": [
    "rfr  = RandomForestRegressor()\n",
    "rfr.fit(X_train, y_train)\n",
    "y_pred_rfr = rfr.predict(X_test)\n",
    "print(r2_score(y_pred_rfr, y_test))\n",
    "print(mean_absolute_error(y_pred_rfr, y_test))\n",
    "print(mean_squared_error(y_pred_rfr, y_test))\n",
    "print(np.sqrt(mean_squared_error(y_pred_rfr, y_test)))"
   ]
  },
  {
   "cell_type": "code",
   "execution_count": 57,
   "metadata": {},
   "outputs": [
    {
     "name": "stdout",
     "output_type": "stream",
     "text": [
      "0.9585714914475519\n",
      "1893.8396742626683\n",
      "23928848.25618799\n",
      "4891.712200874862\n"
     ]
    }
   ],
   "source": [
    "xg  = XGBRegressor()\n",
    "xg.fit(X_train, y_train)\n",
    "y_pred_xg = xg.predict(X_test)\n",
    "print(r2_score(y_pred_xg, y_test))\n",
    "print(mean_absolute_error(y_pred_xg, y_test))\n",
    "print(mean_squared_error(y_pred_xg, y_test))\n",
    "print(np.sqrt(mean_squared_error(y_pred_xg, y_test)))"
   ]
  },
  {
   "cell_type": "code",
   "execution_count": 58,
   "metadata": {},
   "outputs": [
    {
     "data": {
      "text/plain": [
       "Text(0, 0.5, 'y_pred')"
      ]
     },
     "execution_count": 58,
     "metadata": {},
     "output_type": "execute_result"
    },
    {
     "data": {
      "image/png": "[encoded data removed]",
      "text/plain": [
       "<Figure size 648x504 with 1 Axes>"
      ]
     },
     "metadata": {},
     "output_type": "display_data"
    }
   ],
   "source": [
    "# Plotting y_test and y_pred to understand the spread.\n",
    "fig = plt.figure()\n",
    "plt.scatter(y_test, y_pred_xg)\n",
    "fig.suptitle('y_test vs y_pred', fontsize=20)  # Plot heading\n",
    "plt.xlabel('y_test', fontsize=18)  # X-label\n",
    "plt.ylabel('y_pred', fontsize=16)  # Y-label"
   ]
  },
  {
   "cell_type": "code",
   "execution_count": 59,
   "metadata": {},
   "outputs": [
    {
     "data": {
      "text/html": [
       "<div>\n",
       "<style scoped>\n",
       "    .dataframe tbody tr th:only-of-type {\n",
       "        vertical-align: middle;\n",
       "    }\n",
       "\n",
       "    .dataframe tbody tr th {\n",
       "        vertical-align: top;\n",
       "    }\n",
       "\n",
       "    .dataframe thead th {\n",
       "        text-align: right;\n",
       "    }\n",
       "</style>\n",
       "<table border=\"1\" class=\"dataframe\">\n",
       "  <thead>\n",
       "    <tr style=\"text-align: right;\">\n",
       "      <th></th>\n",
       "      <th>kms_driven</th>\n",
       "      <th>age</th>\n",
       "      <th>power</th>\n",
       "      <th>Owner_Type</th>\n",
       "      <th>BMW</th>\n",
       "      <th>Bajaj</th>\n",
       "      <th>Benelli</th>\n",
       "      <th>Harley-Davidson</th>\n",
       "      <th>Hero</th>\n",
       "      <th>Honda</th>\n",
       "      <th>Hyosung</th>\n",
       "      <th>Jawa</th>\n",
       "      <th>KTM</th>\n",
       "      <th>Kawasaki</th>\n",
       "      <th>LML</th>\n",
       "      <th>Mahindra</th>\n",
       "      <th>Suzuki</th>\n",
       "      <th>TVS</th>\n",
       "      <th>Yamaha</th>\n",
       "    </tr>\n",
       "  </thead>\n",
       "  <tbody>\n",
       "    <tr>\n",
       "      <th>29195</th>\n",
       "      <td>-1.209544</td>\n",
       "      <td>2.074473</td>\n",
       "      <td>-1.341308</td>\n",
       "      <td>-0.221308</td>\n",
       "      <td>-0.022982</td>\n",
       "      <td>-0.841458</td>\n",
       "      <td>-0.039156</td>\n",
       "      <td>-0.007266</td>\n",
       "      <td>1.858848</td>\n",
       "      <td>-0.298934</td>\n",
       "      <td>-0.041135</td>\n",
       "      <td>-0.019226</td>\n",
       "      <td>-0.096838</td>\n",
       "      <td>-0.02815</td>\n",
       "      <td>0.0</td>\n",
       "      <td>-0.04825</td>\n",
       "      <td>-0.247805</td>\n",
       "      <td>-0.228113</td>\n",
       "      <td>-0.428435</td>\n",
       "    </tr>\n",
       "    <tr>\n",
       "      <th>12871</th>\n",
       "      <td>1.154087</td>\n",
       "      <td>0.458534</td>\n",
       "      <td>-0.221143</td>\n",
       "      <td>-0.221308</td>\n",
       "      <td>-0.022982</td>\n",
       "      <td>-0.841458</td>\n",
       "      <td>-0.039156</td>\n",
       "      <td>-0.007266</td>\n",
       "      <td>-0.537968</td>\n",
       "      <td>-0.298934</td>\n",
       "      <td>-0.041135</td>\n",
       "      <td>-0.019226</td>\n",
       "      <td>-0.096838</td>\n",
       "      <td>-0.02815</td>\n",
       "      <td>0.0</td>\n",
       "      <td>-0.04825</td>\n",
       "      <td>-0.247805</td>\n",
       "      <td>-0.228113</td>\n",
       "      <td>2.334079</td>\n",
       "    </tr>\n",
       "    <tr>\n",
       "      <th>21489</th>\n",
       "      <td>-0.278696</td>\n",
       "      <td>-0.080112</td>\n",
       "      <td>-1.341308</td>\n",
       "      <td>-0.221308</td>\n",
       "      <td>-0.022982</td>\n",
       "      <td>-0.841458</td>\n",
       "      <td>-0.039156</td>\n",
       "      <td>-0.007266</td>\n",
       "      <td>1.858848</td>\n",
       "      <td>-0.298934</td>\n",
       "      <td>-0.041135</td>\n",
       "      <td>-0.019226</td>\n",
       "      <td>-0.096838</td>\n",
       "      <td>-0.02815</td>\n",
       "      <td>0.0</td>\n",
       "      <td>-0.04825</td>\n",
       "      <td>-0.247805</td>\n",
       "      <td>-0.228113</td>\n",
       "      <td>-0.428435</td>\n",
       "    </tr>\n",
       "    <tr>\n",
       "      <th>15030</th>\n",
       "      <td>0.368354</td>\n",
       "      <td>1.805150</td>\n",
       "      <td>-0.221143</td>\n",
       "      <td>-0.221308</td>\n",
       "      <td>-0.022982</td>\n",
       "      <td>1.188413</td>\n",
       "      <td>-0.039156</td>\n",
       "      <td>-0.007266</td>\n",
       "      <td>-0.537968</td>\n",
       "      <td>-0.298934</td>\n",
       "      <td>-0.041135</td>\n",
       "      <td>-0.019226</td>\n",
       "      <td>-0.096838</td>\n",
       "      <td>-0.02815</td>\n",
       "      <td>0.0</td>\n",
       "      <td>-0.04825</td>\n",
       "      <td>-0.247805</td>\n",
       "      <td>-0.228113</td>\n",
       "      <td>-0.428435</td>\n",
       "    </tr>\n",
       "    <tr>\n",
       "      <th>9893</th>\n",
       "      <td>0.031177</td>\n",
       "      <td>-0.349435</td>\n",
       "      <td>1.347088</td>\n",
       "      <td>-0.221308</td>\n",
       "      <td>-0.022982</td>\n",
       "      <td>1.188413</td>\n",
       "      <td>-0.039156</td>\n",
       "      <td>-0.007266</td>\n",
       "      <td>-0.537968</td>\n",
       "      <td>-0.298934</td>\n",
       "      <td>-0.041135</td>\n",
       "      <td>-0.019226</td>\n",
       "      <td>-0.096838</td>\n",
       "      <td>-0.02815</td>\n",
       "      <td>0.0</td>\n",
       "      <td>-0.04825</td>\n",
       "      <td>-0.247805</td>\n",
       "      <td>-0.228113</td>\n",
       "      <td>-0.428435</td>\n",
       "    </tr>\n",
       "  </tbody>\n",
       "</table>\n",
       "</div>"
      ],
      "text/plain": [
       "       kms_driven       age     power  Owner_Type       BMW     Bajaj  \\\n",
       "29195   -1.209544  2.074473 -1.341308   -0.221308 -0.022982 -0.841458   \n",
       "12871    1.154087  0.458534 -0.221143   -0.221308 -0.022982 -0.841458   \n",
       "21489   -0.278696 -0.080112 -1.341308   -0.221308 -0.022982 -0.841458   \n",
       "15030    0.368354  1.805150 -0.221143   -0.221308 -0.022982  1.188413   \n",
       "9893     0.031177 -0.349435  1.347088   -0.221308 -0.022982  1.188413   \n",
       "\n",
       "        Benelli  Harley-Davidson      Hero     Honda   Hyosung      Jawa  \\\n",
       "29195 -0.039156        -0.007266  1.858848 -0.298934 -0.041135 -0.019226   \n",
       "12871 -0.039156        -0.007266 -0.537968 -0.298934 -0.041135 -0.019226   \n",
       "21489 -0.039156        -0.007266  1.858848 -0.298934 -0.041135 -0.019226   \n",
       "15030 -0.039156        -0.007266 -0.537968 -0.298934 -0.041135 -0.019226   \n",
       "9893  -0.039156        -0.007266 -0.537968 -0.298934 -0.041135 -0.019226   \n",
       "\n",
       "            KTM  Kawasaki  LML  Mahindra    Suzuki       TVS    Yamaha  \n",
       "29195 -0.096838  -0.02815  0.0  -0.04825 -0.247805 -0.228113 -0.428435  \n",
       "12871 -0.096838  -0.02815  0.0  -0.04825 -0.247805 -0.228113  2.334079  \n",
       "21489 -0.096838  -0.02815  0.0  -0.04825 -0.247805 -0.228113 -0.428435  \n",
       "15030 -0.096838  -0.02815  0.0  -0.04825 -0.247805 -0.228113 -0.428435  \n",
       "9893  -0.096838  -0.02815  0.0  -0.04825 -0.247805 -0.228113 -0.428435  "
      ]
     },
     "execution_count": 59,
     "metadata": {},
     "output_type": "execute_result"
    }
   ],
   "source": [
    "X_train.head()"
   ]
  },
  {
   "cell_type": "code",
   "execution_count": 60,
   "metadata": {},
   "outputs": [],
   "source": [
    "brands = X_train.columns[4:]"
   ]
  },
  {
   "attachments": {},
   "cell_type": "markdown",
   "metadata": {},
   "source": [
    "First - 0\n",
    "\n",
    "Fourth - 1\n",
    "\n",
    "Second - 2\n",
    "\n",
    "Third - 3"
   ]
  },
  {
   "cell_type": "code",
   "execution_count": 61,
   "metadata": {},
   "outputs": [],
   "source": [
    "def new_input(kms_driven, age, power, owner, brand):\n",
    "    owner_val = 0\n",
    "    owner = owner.lower()\n",
    "    if owner=='first':\n",
    "        owner_val = 0\n",
    "    elif owner=='fourth or more':\n",
    "        owner_val = 1\n",
    "    elif owner=='second':\n",
    "        owner_val = 2\n",
    "    else:\n",
    "        owner_val = 3\n",
    "    \n",
    "    brand_occur_df = pd.DataFrame(0, index=[0], columns=brands)\n",
    "    bike_list = [brand]\n",
    "    for bike in bike_list:\n",
    "        if bike in brand_occur_df.columns:\n",
    "            brand_occur_df.loc[0, bike] = 1\n",
    "    \n",
    "    new_inp = {\n",
    "        'kms_driven': kms_driven,\n",
    "        'age': age,\n",
    "        'power': power,\n",
    "        'Owner_Type': owner_val\n",
    "    }\n",
    "\n",
    "    new_df = pd.DataFrame([new_inp])\n",
    "    \n",
    "    final_df = pd.concat([new_df, brand_occur_df], axis=1)\n",
    "    final_df  = ss.transform(final_df)\n",
    "    y_pred_new = rfr.predict(final_df)\n",
    "    return y_pred_new\n",
    "\n",
    "    "
   ]
  },
  {
   "cell_type": "code",
   "execution_count": 67,
   "metadata": {},
   "outputs": [
    {
     "name": "stderr",
     "output_type": "stream",
     "text": [
      "c:\\Users\\patil\\AppData\\Local\\Programs\\Python\\Python39\\lib\\site-packages\\sklearn\\base.py:420: UserWarning: X does not have valid feature names, but RandomForestRegressor was fitted with feature names\n",
      "  warnings.warn(\n"
     ]
    },
    {
     "data": {
      "text/plain": [
       "68295.0"
      ]
     },
     "execution_count": 67,
     "metadata": {},
     "output_type": "execute_result"
    }
   ],
   "source": [
    "new_input(30000, 2, 155, 'third', \"Kawasaki\")[0]"
   ]
  },
  {
   "cell_type": "code",
   "execution_count": 63,
   "metadata": {},
   "outputs": [
    {
     "data": {
      "text/html": [
       "<div>\n",
       "<style scoped>\n",
       "    .dataframe tbody tr th:only-of-type {\n",
       "        vertical-align: middle;\n",
       "    }\n",
       "\n",
       "    .dataframe tbody tr th {\n",
       "        vertical-align: top;\n",
       "    }\n",
       "\n",
       "    .dataframe thead th {\n",
       "        text-align: right;\n",
       "    }\n",
       "</style>\n",
       "<table border=\"1\" class=\"dataframe\">\n",
       "  <thead>\n",
       "    <tr style=\"text-align: right;\">\n",
       "      <th></th>\n",
       "      <th>kms_driven</th>\n",
       "      <th>age</th>\n",
       "      <th>power</th>\n",
       "      <th>Owner_Type</th>\n",
       "      <th>BMW</th>\n",
       "      <th>Bajaj</th>\n",
       "      <th>Benelli</th>\n",
       "      <th>Harley-Davidson</th>\n",
       "      <th>Hero</th>\n",
       "      <th>Honda</th>\n",
       "      <th>Hyosung</th>\n",
       "      <th>Jawa</th>\n",
       "      <th>KTM</th>\n",
       "      <th>Kawasaki</th>\n",
       "      <th>LML</th>\n",
       "      <th>Mahindra</th>\n",
       "      <th>Suzuki</th>\n",
       "      <th>TVS</th>\n",
       "      <th>Yamaha</th>\n",
       "    </tr>\n",
       "  </thead>\n",
       "  <tbody>\n",
       "    <tr>\n",
       "      <th>0</th>\n",
       "      <td>17654.0</td>\n",
       "      <td>3</td>\n",
       "      <td>110</td>\n",
       "      <td>0</td>\n",
       "      <td>0</td>\n",
       "      <td>0</td>\n",
       "      <td>0</td>\n",
       "      <td>0</td>\n",
       "      <td>0</td>\n",
       "      <td>0</td>\n",
       "      <td>0</td>\n",
       "      <td>0</td>\n",
       "      <td>0</td>\n",
       "      <td>0</td>\n",
       "      <td>0</td>\n",
       "      <td>0</td>\n",
       "      <td>0</td>\n",
       "      <td>1</td>\n",
       "      <td>0</td>\n",
       "    </tr>\n",
       "    <tr>\n",
       "      <th>3</th>\n",
       "      <td>16329.0</td>\n",
       "      <td>4</td>\n",
       "      <td>180</td>\n",
       "      <td>0</td>\n",
       "      <td>0</td>\n",
       "      <td>0</td>\n",
       "      <td>0</td>\n",
       "      <td>0</td>\n",
       "      <td>0</td>\n",
       "      <td>0</td>\n",
       "      <td>0</td>\n",
       "      <td>0</td>\n",
       "      <td>0</td>\n",
       "      <td>0</td>\n",
       "      <td>0</td>\n",
       "      <td>0</td>\n",
       "      <td>0</td>\n",
       "      <td>1</td>\n",
       "      <td>0</td>\n",
       "    </tr>\n",
       "    <tr>\n",
       "      <th>4</th>\n",
       "      <td>10000.0</td>\n",
       "      <td>3</td>\n",
       "      <td>150</td>\n",
       "      <td>0</td>\n",
       "      <td>0</td>\n",
       "      <td>0</td>\n",
       "      <td>0</td>\n",
       "      <td>0</td>\n",
       "      <td>0</td>\n",
       "      <td>0</td>\n",
       "      <td>0</td>\n",
       "      <td>0</td>\n",
       "      <td>0</td>\n",
       "      <td>0</td>\n",
       "      <td>0</td>\n",
       "      <td>0</td>\n",
       "      <td>0</td>\n",
       "      <td>0</td>\n",
       "      <td>1</td>\n",
       "    </tr>\n",
       "    <tr>\n",
       "      <th>5</th>\n",
       "      <td>25000.0</td>\n",
       "      <td>6</td>\n",
       "      <td>150</td>\n",
       "      <td>0</td>\n",
       "      <td>0</td>\n",
       "      <td>0</td>\n",
       "      <td>0</td>\n",
       "      <td>0</td>\n",
       "      <td>0</td>\n",
       "      <td>0</td>\n",
       "      <td>0</td>\n",
       "      <td>0</td>\n",
       "      <td>0</td>\n",
       "      <td>0</td>\n",
       "      <td>0</td>\n",
       "      <td>0</td>\n",
       "      <td>0</td>\n",
       "      <td>0</td>\n",
       "      <td>1</td>\n",
       "    </tr>\n",
       "    <tr>\n",
       "      <th>6</th>\n",
       "      <td>8200.0</td>\n",
       "      <td>3</td>\n",
       "      <td>160</td>\n",
       "      <td>0</td>\n",
       "      <td>0</td>\n",
       "      <td>0</td>\n",
       "      <td>0</td>\n",
       "      <td>0</td>\n",
       "      <td>0</td>\n",
       "      <td>1</td>\n",
       "      <td>0</td>\n",
       "      <td>0</td>\n",
       "      <td>0</td>\n",
       "      <td>0</td>\n",
       "      <td>0</td>\n",
       "      <td>0</td>\n",
       "      <td>0</td>\n",
       "      <td>0</td>\n",
       "      <td>0</td>\n",
       "    </tr>\n",
       "  </tbody>\n",
       "</table>\n",
       "</div>"
      ],
      "text/plain": [
       "   kms_driven  age  power  Owner_Type  BMW  Bajaj  Benelli  Harley-Davidson  \\\n",
       "0     17654.0    3    110           0    0      0        0                0   \n",
       "3     16329.0    4    180           0    0      0        0                0   \n",
       "4     10000.0    3    150           0    0      0        0                0   \n",
       "5     25000.0    6    150           0    0      0        0                0   \n",
       "6      8200.0    3    160           0    0      0        0                0   \n",
       "\n",
       "   Hero  Honda  Hyosung  Jawa  KTM  Kawasaki  LML  Mahindra  Suzuki  TVS  \\\n",
       "0     0      0        0     0    0         0    0         0       0    1   \n",
       "3     0      0        0     0    0         0    0         0       0    1   \n",
       "4     0      0        0     0    0         0    0         0       0    0   \n",
       "5     0      0        0     0    0         0    0         0       0    0   \n",
       "6     0      1        0     0    0         0    0         0       0    0   \n",
       "\n",
       "   Yamaha  \n",
       "0       0  \n",
       "3       0  \n",
       "4       1  \n",
       "5       1  \n",
       "6       0  "
      ]
     },
     "execution_count": 63,
     "metadata": {},
     "output_type": "execute_result"
    }
   ],
   "source": [
    "X.head()"
   ]
  },
  {
   "cell_type": "code",
   "execution_count": 64,
   "metadata": {},
   "outputs": [],
   "source": [
    "# import pickle\n",
    "# with open('rfr_bike.pkl', 'wb') as file:\n",
    "#     pickle.dump(rfr, file)"
   ]
  },
  {
   "cell_type": "code",
   "execution_count": 66,
   "metadata": {},
   "outputs": [],
   "source": [
    "import pickle\n",
    "with open('scaler_bike.pkl', 'wb') as file:\n",
    "    pickle.dump(ss, file)\n",
    "\n",
    "with open('brands_bike.pkl', 'wb') as file:\n",
    "    pickle.dump(brands, file)"
   ]
  },
  {
   "cell_type": "code",
   "execution_count": 65,
   "metadata": {},
   "outputs": [
    {
     "data": {
      "text/plain": [
       "Index(['BMW', 'Bajaj', 'Benelli', 'Harley-Davidson', 'Hero', 'Honda',\n",
       "       'Hyosung', 'Jawa', 'KTM', 'Kawasaki', 'LML', 'Mahindra', 'Suzuki',\n",
       "       'TVS', 'Yamaha'],\n",
       "      dtype='object')"
      ]
     },
     "execution_count": 65,
     "metadata": {},
     "output_type": "execute_result"
    }
   ],
   "source": [
    "brands"
   ]
  },
  {
   "cell_type": "code",
   "execution_count": null,
   "metadata": {},
   "outputs": [],
   "source": []
  }
 ],
 "metadata": {
  "kernelspec": {
   "display_name": "Python 3",
   "language": "python",
   "name": "python3"
  },
  "language_info": {
   "codemirror_mode": {
    "name": "ipython",
    "version": 3
   },
   "file_extension": ".py",
   "mimetype": "text/x-python",
   "name": "python",
   "nbconvert_exporter": "python",
   "pygments_lexer": "ipython3",
   "version": "3.9.8"
  },
  "orig_nbformat": 4
 },
 "nbformat": 4,
 "nbformat_minor": 2
}
